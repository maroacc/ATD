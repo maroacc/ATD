{
 "cells": [
  {
   "cell_type": "code",
   "execution_count": 1,
   "id": "1067f180-9573-4831-9405-80e3a5badd50",
   "metadata": {},
   "outputs": [],
   "source": [
    "# Practica 13 - BORME\n",
    "# María José Medina Hernández"
   ]
  },
  {
   "cell_type": "code",
   "execution_count": 2,
   "id": "fbd7831a-13d1-4343-9f17-ee5c5a8bb65c",
   "metadata": {},
   "outputs": [],
   "source": [
    "# Imports\n",
    "import requests\n",
    "import time\n",
    "import logging\n",
    "import urllib.request\n",
    "from selenium import webdriver\n",
    "from selenium.webdriver.common.action_chains import ActionChains\n",
    "from os import makedirs\n",
    "from os.path import exists"
   ]
  },
  {
   "cell_type": "code",
   "execution_count": 3,
   "id": "27d3d28f-72d9-4584-a3a6-82dc4fa47140",
   "metadata": {},
   "outputs": [
    {
     "name": "stderr",
     "output_type": "stream",
     "text": [
      "INFO:root:info\n"
     ]
    }
   ],
   "source": [
    "# Configure logging\n",
    "logger = logging.getLogger()\n",
    "logger.setLevel(logging.INFO)\n",
    "logging.info(\"info\")"
   ]
  },
  {
   "cell_type": "code",
   "execution_count": 4,
   "id": "22aa5190-4158-4de8-87c7-31f7dacdfb96",
   "metadata": {},
   "outputs": [],
   "source": [
    "boletin = \"20220105\" #12/12/2021"
   ]
  },
  {
   "cell_type": "code",
   "execution_count": 14,
   "id": "8eb196b7-22fb-4d1c-a483-16e1cb011c19",
   "metadata": {},
   "outputs": [],
   "source": [
    "# Create directory for the PDFs\n",
    "directory = f\"Boletin-{boletin}\"\n",
    "if not exists(directory):\n",
    "    makedirs(directory)"
   ]
  },
  {
   "cell_type": "code",
   "execution_count": 6,
   "id": "2aa6b5f3-50c9-4ece-9c8d-dac0a8934f14",
   "metadata": {},
   "outputs": [],
   "source": [
    "def format_date(date):\n",
    "    \"\"\"\n",
    "    Formats \"YYYYMMDD\" date into \"DD/MM/YYYY\" date.\n",
    "    \n",
    "    Params\n",
    "    -------\n",
    "    date : string\n",
    "        The date string \"YYYYMMDD\".\n",
    "\n",
    "    Return\n",
    "    -------\n",
    "    f_date : string\n",
    "        Formatted date \"DD/MM/YYYY\".\n",
    "    \"\"\"\n",
    "    date = date.strip()\n",
    "    year = date[0:4]\n",
    "    month = date[4:6]\n",
    "    day = date[6:8]\n",
    "    f_date = f\"{day}/{month}/{year}\"\n",
    "    return f_date"
   ]
  },
  {
   "cell_type": "code",
   "execution_count": 7,
   "id": "6bec6b5c-40ba-4f19-8333-b9bbfb99d4a8",
   "metadata": {},
   "outputs": [],
   "source": [
    "date = format_date(boletin)"
   ]
  },
  {
   "cell_type": "code",
   "execution_count": 8,
   "id": "f01ad394-6a2a-46fc-9001-553d4cf4636a",
   "metadata": {},
   "outputs": [
    {
     "name": "stderr",
     "output_type": "stream",
     "text": [
      "<ipython-input-8-9ea946ed2044>:4: DeprecationWarning: executable_path has been deprecated, please pass in a Service object\n",
      "  driver = webdriver.Chrome(executable_path=chromedriver_path)\n"
     ]
    }
   ],
   "source": [
    "# Deploy the Chrome diver executed by Selenium\n",
    "chromedriver_path = r\"..\\chromedriver_win32\\chromedriver\"\n",
    "# Path to the Chrome driver\n",
    "driver = webdriver.Chrome(executable_path=chromedriver_path)\n",
    "url = \"https://www.boe.es/diario_borme/\"\n",
    "driver.get(url)\n",
    "time.sleep(2)"
   ]
  },
  {
   "cell_type": "code",
   "execution_count": 9,
   "id": "36aac6be-0f1e-465e-84a8-ef1a7875ef66",
   "metadata": {},
   "outputs": [
    {
     "name": "stderr",
     "output_type": "stream",
     "text": [
      "<ipython-input-9-cb102da005e4>:2: DeprecationWarning: find_element_by_* commands are deprecated. Please use find_element() instead\n",
      "  driver.find_element_by_id(\"fechaBORME\").send_keys(date)\n",
      "<ipython-input-9-cb102da005e4>:3: DeprecationWarning: find_element_by_* commands are deprecated. Please use find_element() instead\n",
      "  divs = driver.find_element_by_name(\"acc\").click()\n"
     ]
    }
   ],
   "source": [
    "# Input the desired date in the calendar\n",
    "driver.find_element_by_id(\"fechaBORME\").send_keys(date)\n",
    "divs = driver.find_element_by_name(\"acc\").click()"
   ]
  },
  {
   "cell_type": "code",
   "execution_count": 10,
   "id": "e6c9e786-8c69-4b26-a4e6-d1f81764bb21",
   "metadata": {},
   "outputs": [],
   "source": [
    "# TODO: METER TODO EN EL TRY EXCEPT\n",
    "# TODO: add sleep\n",
    "# Poner en una funcion"
   ]
  },
  {
   "cell_type": "code",
   "execution_count": 11,
   "id": "5738cbf7-1add-406d-9f51-7732443c98dc",
   "metadata": {},
   "outputs": [
    {
     "name": "stderr",
     "output_type": "stream",
     "text": [
      "<ipython-input-11-06805c9f29b9>:1: DeprecationWarning: find_element_by_* commands are deprecated. Please use find_element() instead\n",
      "  id = driver.find_element_by_xpath(\"//h3[contains(text(),\\'SEGUNDA')]\").get_attribute(\"id\")\n",
      "<ipython-input-11-06805c9f29b9>:2: DeprecationWarning: find_element_by_* commands are deprecated. Please use find_element() instead\n",
      "  ActionChains(driver).move_to_element(driver.find_element_by_id(id)).perform()\n"
     ]
    }
   ],
   "source": [
    "id = driver.find_element_by_xpath(\"//h3[contains(text(),\\'SEGUNDA')]\").get_attribute(\"id\")\n",
    "ActionChains(driver).move_to_element(driver.find_element_by_id(id)).perform()"
   ]
  },
  {
   "cell_type": "code",
   "execution_count": 19,
   "id": "fc52b24c-352a-4417-b375-463f988ed1e2",
   "metadata": {},
   "outputs": [],
   "source": [
    "def download_pdf(driver):\n",
    "    \"\"\"\n",
    "    Dowloads the the PDF files.\n",
    "    \n",
    "    Params\n",
    "    -------\n",
    "    driver : selenium.webdriver.chrome.webdriver.WebDriver\n",
    "        The web driver.\n",
    "    \"\"\"\n",
    "    # Get all h4 titles after the second section title\n",
    "    titles = driver.find_elements_by_xpath(\"//h3[contains(text(),\\'SEGUNDA')]/following-sibling::h4\")\n",
    "    # Iterate through the titles\n",
    "    for element in titles:\n",
    "        # Get the directory name\n",
    "        subdirectory = f\"{directory}/{element.text}\"\n",
    "        # Create directory\n",
    "        if not exists(subdirectory):\n",
    "            makedirs(subdirectory)\n",
    "        # Find the pdfs after the title\n",
    "        pdfs = element.find_element_by_xpath(\"./following-sibling::ul\").find_elements_by_xpath(\".//li[@class = 'puntoPDF']/a\")\n",
    "        for pdf in pdfs:\n",
    "    #         print(pdf.get_attribute('href'))\n",
    "            URL = pdf.get_attribute('href')\n",
    "            file_name = URL.split(\"/\")[-1]\n",
    "            logging.info(f\"{subdirectory} ----- {URL}\")\n",
    "            # Using response in stead of clicking to control the directory the pdfs are downloaded into\n",
    "            response = requests.get(URL)  \n",
    "            with open(f\"{subdirectory}/{file_name}\", \"wb\") as output_file:\n",
    "                output_file.write(response.content)\n",
    "            time.sleep(2)"
   ]
  },
  {
   "cell_type": "code",
   "execution_count": 17,
   "id": "2b2a61f0-ecd7-44d9-bb79-99babcd88437",
   "metadata": {},
   "outputs": [
    {
     "name": "stderr",
     "output_type": "stream",
     "text": [
      "<ipython-input-16-6f19a194b0b3>:11: DeprecationWarning: find_elements_by_* commands are deprecated. Please use find_elements() instead\n",
      "  titles = driver.find_elements_by_xpath(\"//h3[contains(text(),\\'SEGUNDA')]/following-sibling::h4\")\n",
      "C:\\Users\\Maria\\anaconda3\\lib\\site-packages\\selenium\\webdriver\\remote\\webelement.py:393: UserWarning: find_element_by_* commands are deprecated. Please use find_element() instead\n",
      "  warnings.warn(\"find_element_by_* commands are deprecated. Please use find_element() instead\")\n",
      "C:\\Users\\Maria\\anaconda3\\lib\\site-packages\\selenium\\webdriver\\remote\\webelement.py:426: UserWarning: find_elements_by_* commands are deprecated. Please use find_elements() instead\n",
      "  warnings.warn(\"find_elements_by_* commands are deprecated. Please use find_elements() instead\")\n",
      "INFO:root:Boletin-20220105/CONVOCATORIAS DE JUNTAS ----- https://www.boe.es/borme/dias/2022/01/05/pdfs/BORME-C-2022-43.pdf\n"
     ]
    },
    {
     "name": "stdout",
     "output_type": "stream",
     "text": [
      "2\n"
     ]
    },
    {
     "name": "stderr",
     "output_type": "stream",
     "text": [
      "INFO:root:Boletin-20220105/FUSIONES Y ABSORCIONES DE EMPRESAS ----- https://www.boe.es/borme/dias/2022/01/05/pdfs/BORME-C-2022-44.pdf\n"
     ]
    }
   ],
   "source": [
    "download_pdf(driver)"
   ]
  },
  {
   "cell_type": "code",
   "execution_count": 21,
   "id": "dd8aeedc-7615-4ddf-9e8e-5a9e9d7d8587",
   "metadata": {},
   "outputs": [],
   "source": [
    "def spider(driver):\n",
    "    \"\"\"\n",
    "    Retrieves all the XML links.\n",
    "    Params\n",
    "    -------\n",
    "    driver : selenium.webdriver.chrome.webdriver.WebDriver\n",
    "        The web driver.\n",
    "\n",
    "    Return\n",
    "    -------\n",
    "    links : list\n",
    "        Matrix with columns for directory folder and link.\n",
    "    \"\"\"\n",
    "    links = []\n",
    "    # Get all h4 titles after the second section title\n",
    "    titles = driver.find_elements_by_xpath(\"//h3[contains(text(),\\'SEGUNDA')]/following-sibling::h4\")\n",
    "    # Iterate through the titles\n",
    "    for element in titles:\n",
    "        # Get the directory name\n",
    "        subdirectory = f\"{directory}/{element.text}\"\n",
    "        # Create directory\n",
    "        if not exists(subdirectory):\n",
    "            makedirs(subdirectory)\n",
    "        # Find the pdfs after the title\n",
    "        other_formats = element.find_element_by_xpath(\"./following-sibling::ul\").find_elements_by_xpath(\".//li[@class = 'puntoHTML']/a\")\n",
    "        for other_format in other_formats:\n",
    "            links.append([element.text, other_format.get_attribute(\"href\")])\n",
    "    return links"
   ]
  },
  {
   "cell_type": "code",
   "execution_count": 22,
   "id": "5baaef2e-d159-4a37-ae8e-5cb3f0ec3565",
   "metadata": {},
   "outputs": [
    {
     "name": "stderr",
     "output_type": "stream",
     "text": [
      "<ipython-input-21-8f3105cd3ede>:16: DeprecationWarning: find_elements_by_* commands are deprecated. Please use find_elements() instead\n",
      "  titles = driver.find_elements_by_xpath(\"//h3[contains(text(),\\'SEGUNDA')]/following-sibling::h4\")\n"
     ]
    }
   ],
   "source": [
    "links = spider(driver)"
   ]
  },
  {
   "cell_type": "code",
   "execution_count": 23,
   "id": "55661209-db8b-46f8-bdde-d7b017e5f2a8",
   "metadata": {},
   "outputs": [],
   "source": [
    "def download_xml(driver, links):\n",
    "    \"\"\"\n",
    "    Dowloads the the xml file in each link.\n",
    "    \n",
    "    Params\n",
    "    -------\n",
    "    driver : selenium.webdriver.chrome.webdriver.WebDriver\n",
    "        The web driver.\n",
    "    links : list\n",
    "        Matrix with columns for directory folder and link.\n",
    "\n",
    "    \"\"\"\n",
    "    for link in links:\n",
    "        subdirectory = f\"{directory}/{link[0]}\"\n",
    "        url = link[1]\n",
    "        driver.get(url)\n",
    "        URL = driver.find_element_by_xpath(\".//li[@class = 'puntoXML']/a\").get_attribute('href')\n",
    "        # Get file name from query string\n",
    "        file_name = URL.split(\"=\")[-1]\n",
    "        logging.info(f\"{subdirectory} ----- {URL}\")\n",
    "        # Using response in stead of clicking to control the directory the pdfs are downloaded into\n",
    "        response = requests.get(URL)  \n",
    "        with open(f\"{subdirectory}/{file_name}.xml\", \"wb\") as output_file:\n",
    "            output_file.write(response.content)\n",
    "        time.sleep(2)"
   ]
  },
  {
   "cell_type": "code",
   "execution_count": 24,
   "id": "39cb2b4c-d14b-4d65-aa56-eaf80857016d",
   "metadata": {},
   "outputs": [
    {
     "name": "stderr",
     "output_type": "stream",
     "text": [
      "<ipython-input-23-feefad750095>:17: DeprecationWarning: find_element_by_* commands are deprecated. Please use find_element() instead\n",
      "  URL = driver.find_element_by_xpath(\".//li[@class = 'puntoXML']/a\").get_attribute('href')\n",
      "INFO:root:Boletin-20220105/CONVOCATORIAS DE JUNTAS ----- https://www.boe.es/diario_borme/xml.php?id=BORME-C-2022-43\n",
      "INFO:root:Boletin-20220105/FUSIONES Y ABSORCIONES DE EMPRESAS ----- https://www.boe.es/diario_borme/xml.php?id=BORME-C-2022-44\n"
     ]
    }
   ],
   "source": [
    "download_xml(driver, links)"
   ]
  },
  {
   "cell_type": "code",
   "execution_count": null,
   "id": "d0c558fa-3cb8-4854-9ccb-1ac97a259fef",
   "metadata": {},
   "outputs": [],
   "source": []
  }
 ],
 "metadata": {
  "kernelspec": {
   "display_name": "Python 3",
   "language": "python",
   "name": "python3"
  },
  "language_info": {
   "codemirror_mode": {
    "name": "ipython",
    "version": 3
   },
   "file_extension": ".py",
   "mimetype": "text/x-python",
   "name": "python",
   "nbconvert_exporter": "python",
   "pygments_lexer": "ipython3",
   "version": "3.8.8"
  }
 },
 "nbformat": 4,
 "nbformat_minor": 5
}
