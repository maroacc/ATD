{
 "cells": [
  {
   "cell_type": "code",
   "execution_count": 1,
   "id": "6cd2410d-28e0-4660-85dc-80975ce258d1",
   "metadata": {},
   "outputs": [],
   "source": [
    "# PRÁCTICA 14 - Parser\n",
    "# María José Medina Hernández"
   ]
  },
  {
   "cell_type": "code",
   "execution_count": 3,
   "id": "9105befd-1d81-494e-aabe-1ba06516990e",
   "metadata": {},
   "outputs": [
    {
     "name": "stdout",
     "output_type": "stream",
     "text": [
      "Requirement already satisfied: pdftotext in /home/maria/mambaforge/lib/python3.9/site-packages (2.2.2)\n"
     ]
    }
   ],
   "source": [
    "!pip3 install pdftotext"
   ]
  },
  {
   "cell_type": "code",
   "execution_count": 30,
   "id": "9b81b271-8343-479f-b4a9-4f570a12c3dc",
   "metadata": {},
   "outputs": [],
   "source": [
    "# Imports\n",
    "import pdftotext\n",
    "import re\n",
    "import json"
   ]
  },
  {
   "cell_type": "code",
   "execution_count": 3,
   "id": "37b822a2-eecb-44b7-9714-e164f384adb7",
   "metadata": {},
   "outputs": [],
   "source": [
    "def load_pdf(pdf_path):\n",
    "    with open(pdf_path, \"rb\") as input_file:\n",
    "        pdf = pdftotext.PDF(input_file)\n",
    "    return pdf"
   ]
  },
  {
   "cell_type": "code",
   "execution_count": 4,
   "id": "816577e3-4c0b-4844-acc6-9a3008d8c821",
   "metadata": {},
   "outputs": [],
   "source": [
    "pdf = load_pdf(\"BORME-A-2019-232-02.pdf\")"
   ]
  },
  {
   "cell_type": "code",
   "execution_count": 6,
   "id": "5fa3243d-1bcb-4ad0-be59-d1551cfd6d34",
   "metadata": {},
   "outputs": [],
   "source": [
    "def extract_concepts(paragraph):\n",
    "    \"\"\"\n",
    "    Extracts the different concepts from an entry of the BORME pdf.\n",
    "    \n",
    "    Params\n",
    "    -------\n",
    "    paragraph : string\n",
    "        The paragraph of each entry (eg. Otros conceptos: Declaración de insolvencia total por importe de 11.137,78 euros. Datos registrales. T 982, L 746, F 66, S 8, H AB\n",
    "26079, I/A 2 (25.11.19).).\n",
    "\n",
    "    Return\n",
    "    -------\n",
    "    ceses : string\n",
    "        Termination of a position (eg. Adm. Unico: LLORENTE MERINO RAFAEL.).\n",
    "    \"\"\"\n",
    "    # Declare variables\n",
    "    ceses = \"\"\n",
    "    nombramientos = \"\"\n",
    "    ampliacion = \"\"\n",
    "    domicilio = \"\"\n",
    "    objeto = \"\"\n",
    "    otros = \"\"\n",
    "    registrales = \"\"\n",
    "    \n",
    "    if \"Ceses/Dimisiones.\" in paragraph:\n",
    "        ceses = paragraph.split(\"Ceses/Dimisiones.\")[1].split(\"Nombramientos.\")[0].split(\"Ampliación de capital.\")[0].split(\"Cambio de domicilio social.\")[0].split(\"Cambio de objeto social.\")[0].split(\"Otros conceptos:\")[0].split(\"Datos registrales.\")[0]\n",
    "    if \"Nombramientos.\" in paragraph:\n",
    "        nombramientos = paragraph.split(\"Nombramientos.\")[1].split(\"Ampliación de capital.\")[0].split(\"Cambio de domicilio social.\")[0].split(\"Cambio de objeto social.\")[0].split(\"Otros conceptos:\")[0].split(\"Datos registrales.\")[0]\n",
    "    if \"Ampliación de capital.\" in paragraph:\n",
    "        ampliacion = paragraph.split(\"Ampliación de capital.\")[1].split(\"Cambio de domicilio social.\")[0].split(\"Cambio de objeto social.\")[0].split(\"Otros conceptos:\")[0].split(\"Datos registrales.\")[0]\n",
    "    if \"Cambio de domicilio social.\" in paragraph:\n",
    "        domicilio = paragraph.split(\"Cambio de domicilio social.\")[1].split(\"Cambio de objeto social.\")[0].split(\"Otros conceptos:\")[0].split(\"Datos registrales.\")[0]\n",
    "    if \"Cambio de objeto social.\" in paragraph:\n",
    "        objeto = paragraph.split(\"Cambio de objeto social.\")[1].split(\"Otros conceptos:\")[0].split(\"Datos registrales.\")[0]\n",
    "    if \"Otros conceptos:\" in paragraph:\n",
    "        otros = paragraph.split(\"Otros conceptos:\")[1].split(\"Datos registrales.\")[0]\n",
    "    if \"Datos registrales.\" in paragraph:\n",
    "        registrales = paragraph.split(\"Datos registrales.\")[1]\n",
    "    return ceses, nombramientos, ampliacion, domicilio, objeto, otros, registrales\n"
   ]
  },
  {
   "cell_type": "code",
   "execution_count": 32,
   "id": "17247314-9811-4c73-9413-b2a6f9601c46",
   "metadata": {},
   "outputs": [],
   "source": [
    "def extract_data_from_pdf(pdf):\n",
    "    data = {}\n",
    "    for page in pdf:\n",
    "        paragraph = \"\"\n",
    "        old_id = None\n",
    "        aux = {}\n",
    "        for line in page.splitlines():\n",
    "            # Gets the first word of each line and checks whether it is an ID\n",
    "            new_id = line.strip().split(\" \")[0]\n",
    "            if new_id.isdigit():\n",
    "                if old_id:\n",
    "                    # Remove multiple spaces\n",
    "                    paragraph = re.sub(' +', ' ', paragraph)\n",
    "                    ceses, nombramientos, ampliacion, domicilio, objeto, otros, registrales = extract_concepts(paragraph)\n",
    "                    if ceses:\n",
    "                        aux[\"ceses\"] = ceses\n",
    "                    if nombramientos:\n",
    "                        aux[\"nombramientos\"] = nombramientos\n",
    "                    if ampliacion:\n",
    "                        aux[\"ampliacion\"] = ampliacion\n",
    "                    if domicilio:\n",
    "                        aux[\"domicilio\"] = domicilio\n",
    "                    if objeto:\n",
    "                        aux[\"objeto\"] = objeto\n",
    "                    if otros:\n",
    "                        aux[\"otros\"] = otros\n",
    "                    if registrales:\n",
    "                        aux[\"registrales\"] = registrales\n",
    "                    data[name] = aux\n",
    "                paragraph = \"\"\n",
    "                aux = {}\n",
    "                name = line.split(\"-\")[1].strip().split(\".\")[0]\n",
    "                aux[\"id\"] = new_id\n",
    "                old_id = new_id\n",
    "            else:\n",
    "                paragraph =  f\"{paragraph}{line}\"\n",
    "    return data"
   ]
  },
  {
   "cell_type": "code",
   "execution_count": 33,
   "id": "425da2ee-80fb-469d-acc3-56f840c66081",
   "metadata": {},
   "outputs": [],
   "source": [
    "data = extract_data_from_pdf(pdf)"
   ]
  },
  {
   "cell_type": "code",
   "execution_count": 34,
   "id": "3665969a-e62e-4fd1-a542-e526f1f5df87",
   "metadata": {},
   "outputs": [],
   "source": [
    "def print_json(dic, file_path):\n",
    "    with open(file_path, \"w\") as output_file:\n",
    "        json.dump(dic, output_file)"
   ]
  },
  {
   "cell_type": "code",
   "execution_count": 35,
   "id": "be21fc59-c065-42cd-b889-3495d7de0112",
   "metadata": {},
   "outputs": [],
   "source": [
    "print_json(data, \"datos_empresas.json\")"
   ]
  },
  {
   "cell_type": "code",
   "execution_count": null,
   "id": "fc78c1f7-940d-477e-9ce0-924e3971b4fd",
   "metadata": {},
   "outputs": [],
   "source": []
  }
 ],
 "metadata": {
  "kernelspec": {
   "display_name": "Python 3 (ipykernel)",
   "language": "python",
   "name": "python3"
  },
  "language_info": {
   "codemirror_mode": {
    "name": "ipython",
    "version": 3
   },
   "file_extension": ".py",
   "mimetype": "text/x-python",
   "name": "python",
   "nbconvert_exporter": "python",
   "pygments_lexer": "ipython3",
   "version": "3.9.7"
  }
 },
 "nbformat": 4,
 "nbformat_minor": 5
}
