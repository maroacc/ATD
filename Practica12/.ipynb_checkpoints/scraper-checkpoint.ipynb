{
 "cells": [
  {
   "cell_type": "code",
   "execution_count": 9,
   "id": "35e94950-d8f5-4a74-970d-c461e9f49caf",
   "metadata": {},
   "outputs": [],
   "source": [
    "# Imports\n",
    "import csv\n",
    "import time\n",
    "import json\n",
    "from selenium import webdriver"
   ]
  },
  {
   "cell_type": "code",
   "execution_count": 2,
   "id": "d8ef3de8-bb72-42df-9e14-175e291cb085",
   "metadata": {},
   "outputs": [],
   "source": [
    "def load_csv(file_path):\n",
    "    with open(file_path, \"r\") as input_file:\n",
    "        reader = csv.reader(input_file, delimiter = \";\")\n",
    "        matrix = [row for row in reader]\n",
    "    return matrix"
   ]
  },
  {
   "cell_type": "code",
   "execution_count": 3,
   "id": "b884134b-d6c1-4cdb-9fe3-1dc236746896",
   "metadata": {},
   "outputs": [],
   "source": [
    "matrix = load_csv(\"tarifas_electricas.csv\")"
   ]
  },
  {
   "cell_type": "code",
   "execution_count": 57,
   "id": "bd7fe664-ff94-4e98-9511-538d2bd30c14",
   "metadata": {},
   "outputs": [
    {
     "name": "stderr",
     "output_type": "stream",
     "text": [
      "<ipython-input-57-e7a712b43309>:4: DeprecationWarning: executable_path has been deprecated, please pass in a Service object\n",
      "  driver = webdriver.Chrome(executable_path=chromedriver_path)\n",
      "<ipython-input-57-e7a712b43309>:16: DeprecationWarning: find_element_by_* commands are deprecated. Please use find_element() instead\n",
      "  driver.find_element_by_class_name(\"cookiesjsr-btn\").click()\n",
      "<ipython-input-55-a17a05d7e746>:17: DeprecationWarning: find_element_by_* commands are deprecated. Please use find_element() instead\n",
      "  price = driver.find_element_by_id(\"cartaEstimacionPrimerAnioElectricidad\").find_elements_by_tag_name(\"p\")\n",
      "<ipython-input-55-a17a05d7e746>:24: DeprecationWarning: find_element_by_* commands are deprecated. Please use find_element() instead\n",
      "  total_price = driver.find_element_by_id(\"cartaTotalPrimerAnio\").find_elements_by_tag_name(\"p\")\n"
     ]
    }
   ],
   "source": [
    "# Deploy the Chrome diver executed by Selenium\n",
    "chromedriver_path = r\"..\\chromedriver_win32\\chromedriver\"\n",
    "# Path to the Chrome driver\n",
    "driver = webdriver.Chrome(executable_path=chromedriver_path)\n",
    "\n",
    "# Json dictionary to store the tariffs' info\n",
    "data = {}\n",
    "\n",
    "\n",
    "# Search within each tariff's link\n",
    "for tarifa in matrix:\n",
    "    url = tarifa[-1]\n",
    "    driver.get(url)\n",
    "    time.sleep(2)\n",
    "    # Click reject cookies button\n",
    "    driver.find_element_by_class_name(\"cookiesjsr-btn\").click()\n",
    "    aux_price, aux_total = find_data(driver)\n",
    "    aux = {\n",
    "        \"Importe anual\" : aux_price,\n",
    "        \"Total estimado\" : aux_total\n",
    "    }\n",
    "    data[tarifa[5]] = aux"
   ]
  },
  {
   "cell_type": "code",
   "execution_count": 55,
   "id": "6ff51f0a-a6f8-4ccb-8029-8b353f91b495",
   "metadata": {},
   "outputs": [],
   "source": [
    "# TODO: La otra tabla\n",
    "def find_data(driver):\n",
    "    \"\"\"\n",
    "    Finds data of the tariff and parses it to a dictionary.\n",
    "    \n",
    "    Params\n",
    "    -------\n",
    "    driver : selenium.webdriver.chrome.webdriver.WebDriver\n",
    "        The driver of the webpage.\n",
    "\n",
    "    Return\n",
    "    -------\n",
    "    data : dic\n",
    "        The dictionary with the data the tariff.\n",
    "    \"\"\"\n",
    "    # Find the estimation card for the first year\n",
    "    price = driver.find_element_by_id(\"cartaEstimacionPrimerAnioElectricidad\").find_elements_by_tag_name(\"p\")\n",
    "    data_price = {\n",
    "        price[0].text : price[1].text,\n",
    "        price[2].text : price[3].text,\n",
    "        price[4].text.split(\"*\")[0].strip() : price[5].text\n",
    "    }\n",
    "    \n",
    "    total_price = driver.find_element_by_id(\"cartaTotalPrimerAnio\").find_elements_by_tag_name(\"p\")\n",
    "\n",
    "    data_total_price = {\n",
    "        total_price[0].text : total_price[1].text,\n",
    "        total_price[2].text.split(\"*\")[0].strip() : total_price[3].text,\n",
    "        total_price[4].text : total_price[5].text\n",
    "    }\n",
    "    return data_price, data_total_price"
   ]
  },
  {
   "cell_type": "code",
   "execution_count": 37,
   "id": "cbb79d4e-f20b-48e9-a37b-4bd470b1ea6a",
   "metadata": {},
   "outputs": [],
   "source": [
    "def print_json(dic, file_path):\n",
    "    with open(file_path, \"w\") as output_file:\n",
    "        json.dump(dic, output_file)"
   ]
  },
  {
   "cell_type": "code",
   "execution_count": null,
   "id": "bc06cf36-87b9-4344-9880-3695a1a47b5d",
   "metadata": {},
   "outputs": [],
   "source": [
    "print_json(data, \"precio_tarifas.json\")"
   ]
  }
 ],
 "metadata": {
  "kernelspec": {
   "display_name": "Python 3",
   "language": "python",
   "name": "python3"
  },
  "language_info": {
   "codemirror_mode": {
    "name": "ipython",
    "version": 3
   },
   "file_extension": ".py",
   "mimetype": "text/x-python",
   "name": "python",
   "nbconvert_exporter": "python",
   "pygments_lexer": "ipython3",
   "version": "3.8.8"
  }
 },
 "nbformat": 4,
 "nbformat_minor": 5
}
