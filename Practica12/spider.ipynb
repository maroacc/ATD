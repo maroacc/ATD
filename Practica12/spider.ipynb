{
 "cells": [
  {
   "cell_type": "code",
   "execution_count": 1,
   "metadata": {
    "tags": []
   },
   "outputs": [],
   "source": [
    "import time\n",
    "import csv\n",
    "from selenium import webdriver"
   ]
  },
  {
   "cell_type": "code",
   "execution_count": 2,
   "metadata": {
    "collapsed": false,
    "jupyter": {
     "outputs_hidden": false
    },
    "pycharm": {
     "name": "#%%\n"
    }
   },
   "outputs": [],
   "source": [
    "# Deploy the Chrome diver executed by Selenium\n",
    "chromedriver_path = r\"..\\chromedriver_win32\\chromedriver\""
   ]
  },
  {
   "cell_type": "code",
   "execution_count": 3,
   "metadata": {
    "collapsed": false,
    "jupyter": {
     "outputs_hidden": false
    },
    "pycharm": {
     "name": "#%%\n"
    }
   },
   "outputs": [
    {
     "name": "stderr",
     "output_type": "stream",
     "text": [
      "<ipython-input-3-8ce3ecedb8b1>:2: DeprecationWarning: executable_path has been deprecated, please pass in a Service object\n",
      "  driver = webdriver.Chrome(executable_path=chromedriver_path)\n"
     ]
    }
   ],
   "source": [
    "# Path to the Chrome driver\n",
    "driver = webdriver.Chrome(executable_path=chromedriver_path)\n",
    "url = \"https://comparador.cnmc.gob.es/\"\n",
    "driver.get(url)\n",
    "time.sleep(2)"
   ]
  },
  {
   "cell_type": "code",
   "execution_count": 4,
   "metadata": {
    "collapsed": false,
    "jupyter": {
     "outputs_hidden": false
    },
    "pycharm": {
     "name": "#%%\n"
    }
   },
   "outputs": [
    {
     "name": "stderr",
     "output_type": "stream",
     "text": [
      "<ipython-input-4-d12efa4ab6e8>:2: DeprecationWarning: find_element_by_* commands are deprecated. Please use find_element() instead\n",
      "  driver.find_element_by_class_name(\"cookiesjsr-btn\").click()\n"
     ]
    }
   ],
   "source": [
    "# Click reject cookies button\n",
    "driver.find_element_by_class_name(\"cookiesjsr-btn\").click()\n",
    "time.sleep(2)"
   ]
  },
  {
   "cell_type": "code",
   "execution_count": 5,
   "metadata": {
    "collapsed": false,
    "jupyter": {
     "outputs_hidden": false
    },
    "pycharm": {
     "name": "#%%\n"
    }
   },
   "outputs": [
    {
     "name": "stderr",
     "output_type": "stream",
     "text": [
      "<ipython-input-5-074e4de2ff0e>:2: DeprecationWarning: find_element_by_* commands are deprecated. Please use find_element() instead\n",
      "  driver.find_element_by_id(\"input-36\").click()\n"
     ]
    }
   ],
   "source": [
    "\n",
    "# Click type of utility select button\n",
    "driver.find_element_by_id(\"input-36\").click()\n",
    "time.sleep(2)"
   ]
  },
  {
   "cell_type": "code",
   "execution_count": 6,
   "metadata": {
    "collapsed": false,
    "jupyter": {
     "outputs_hidden": false
    },
    "pycharm": {
     "name": "#%%\n"
    }
   },
   "outputs": [
    {
     "name": "stderr",
     "output_type": "stream",
     "text": [
      "<ipython-input-6-444844f10fec>:2: DeprecationWarning: find_element_by_* commands are deprecated. Please use find_element() instead\n",
      "  driver.find_element_by_class_name(\"v-list-item__content\").click()\n"
     ]
    }
   ],
   "source": [
    "# Click on the electricity select item\n",
    "driver.find_element_by_class_name(\"v-list-item__content\").click()\n",
    "time.sleep(2)"
   ]
  },
  {
   "cell_type": "code",
   "execution_count": 7,
   "metadata": {
    "collapsed": false,
    "jupyter": {
     "outputs_hidden": false
    },
    "pycharm": {
     "name": "#%%\n"
    }
   },
   "outputs": [
    {
     "name": "stderr",
     "output_type": "stream",
     "text": [
      "<ipython-input-7-bf7f1f5c3eeb>:2: DeprecationWarning: find_element_by_* commands are deprecated. Please use find_element() instead\n",
      "  driver.find_element_by_id(\"Iniciar\").click()\n"
     ]
    }
   ],
   "source": [
    "# Send the form\n",
    "driver.find_element_by_id(\"Iniciar\").click()\n",
    "time.sleep(2)"
   ]
  },
  {
   "cell_type": "code",
   "execution_count": 8,
   "metadata": {
    "collapsed": false,
    "jupyter": {
     "outputs_hidden": false
    },
    "pycharm": {
     "name": "#%%\n"
    }
   },
   "outputs": [
    {
     "name": "stderr",
     "output_type": "stream",
     "text": [
      "<ipython-input-8-281c3483af93>:3: DeprecationWarning: find_element_by_* commands are deprecated. Please use find_element() instead\n",
      "  driver.find_element_by_name(\"codigoPostal\").send_keys(postal_code)\n"
     ]
    }
   ],
   "source": [
    "# Input the postal code\n",
    "postal_code = \"28045\"\n",
    "driver.find_element_by_name(\"codigoPostal\").send_keys(postal_code)\n",
    "time.sleep(2)"
   ]
  },
  {
   "cell_type": "code",
   "execution_count": 9,
   "metadata": {
    "collapsed": false,
    "jupyter": {
     "outputs_hidden": false
    },
    "pycharm": {
     "name": "#%%\n"
    }
   },
   "outputs": [
    {
     "name": "stderr",
     "output_type": "stream",
     "text": [
      "<ipython-input-9-f4557a41c811>:2: DeprecationWarning: find_element_by_* commands are deprecated. Please use find_element() instead\n",
      "  driver.find_element_by_id(\"Continuar\").click()\n"
     ]
    }
   ],
   "source": [
    "# Send the form\n",
    "driver.find_element_by_id(\"Continuar\").click()\n",
    "time.sleep(2)"
   ]
  },
  {
   "cell_type": "code",
   "execution_count": 22,
   "metadata": {},
   "outputs": [],
   "source": [
    "def find_general_info(driver):\n",
    "    \"\"\"\n",
    "    Returns a list with the general information found in the header of the page for a specific search\n",
    "    \n",
    "    Params\n",
    "    -------\n",
    "    driver : selenium.webdriver.chrome.webdriver.WebDriver\n",
    "        The driver of the webpage.\n",
    "\n",
    "    Return\n",
    "    -------\n",
    "    general_info : list\n",
    "        A list with the following columns: Tipo de Suministro, Código Postal, Potencia Contratada, Consumo Anual, Permanencia.\n",
    "    \"\"\"\n",
    "    spans = driver.find_element_by_class_name(\"InfoFormulario\").find_elements_by_tag_name(\"span\")\n",
    "    # Allocate memory for the list\n",
    "    general_info = []\n",
    "    general_info.append(spans[1].text)\n",
    "    general_info.append(spans[3].text)\n",
    "    general_info.append(spans[5].text)\n",
    "    general_info.append(spans[17].text)\n",
    "    return general_info"
   ]
  },
  {
   "cell_type": "code",
   "execution_count": 23,
   "metadata": {},
   "outputs": [
    {
     "name": "stderr",
     "output_type": "stream",
     "text": [
      "<ipython-input-22-f8928e84f4bb>:15: DeprecationWarning: find_element_by_* commands are deprecated. Please use find_element() instead\n",
      "  spans = driver.find_element_by_class_name(\"InfoFormulario\").find_elements_by_tag_name(\"span\")\n"
     ]
    },
    {
     "ename": "IndexError",
     "evalue": "list index out of range",
     "output_type": "error",
     "traceback": [
      "\u001b[1;31m---------------------------------------------------------------------------\u001b[0m",
      "\u001b[1;31mIndexError\u001b[0m                                Traceback (most recent call last)",
      "\u001b[1;32m<ipython-input-23-e96eee3696c0>\u001b[0m in \u001b[0;36m<module>\u001b[1;34m\u001b[0m\n\u001b[1;32m----> 1\u001b[1;33m \u001b[0mgeneral_info\u001b[0m \u001b[1;33m=\u001b[0m \u001b[0mfind_general_info\u001b[0m\u001b[1;33m(\u001b[0m\u001b[0mdriver\u001b[0m\u001b[1;33m)\u001b[0m\u001b[1;33m\u001b[0m\u001b[1;33m\u001b[0m\u001b[0m\n\u001b[0m\u001b[0;32m      2\u001b[0m \u001b[1;33m\u001b[0m\u001b[0m\n\u001b[0;32m      3\u001b[0m \u001b[0mprint\u001b[0m\u001b[1;33m(\u001b[0m\u001b[0mgeneral_info\u001b[0m\u001b[1;33m)\u001b[0m\u001b[1;33m\u001b[0m\u001b[1;33m\u001b[0m\u001b[0m\n\u001b[0;32m      4\u001b[0m \u001b[1;31m# time.sleep(60)\u001b[0m\u001b[1;33m\u001b[0m\u001b[1;33m\u001b[0m\u001b[1;33m\u001b[0m\u001b[0m\n",
      "\u001b[1;32m<ipython-input-22-f8928e84f4bb>\u001b[0m in \u001b[0;36mfind_general_info\u001b[1;34m(driver)\u001b[0m\n\u001b[0;32m     19\u001b[0m     \u001b[0mgeneral_info\u001b[0m\u001b[1;33m.\u001b[0m\u001b[0mappend\u001b[0m\u001b[1;33m(\u001b[0m\u001b[0mspans\u001b[0m\u001b[1;33m[\u001b[0m\u001b[1;36m3\u001b[0m\u001b[1;33m]\u001b[0m\u001b[1;33m.\u001b[0m\u001b[0mtext\u001b[0m\u001b[1;33m)\u001b[0m\u001b[1;33m\u001b[0m\u001b[1;33m\u001b[0m\u001b[0m\n\u001b[0;32m     20\u001b[0m     \u001b[0mgeneral_info\u001b[0m\u001b[1;33m.\u001b[0m\u001b[0mappend\u001b[0m\u001b[1;33m(\u001b[0m\u001b[0mspans\u001b[0m\u001b[1;33m[\u001b[0m\u001b[1;36m5\u001b[0m\u001b[1;33m]\u001b[0m\u001b[1;33m.\u001b[0m\u001b[0mtext\u001b[0m\u001b[1;33m)\u001b[0m\u001b[1;33m\u001b[0m\u001b[1;33m\u001b[0m\u001b[0m\n\u001b[1;32m---> 21\u001b[1;33m     \u001b[0mgeneral_info\u001b[0m\u001b[1;33m.\u001b[0m\u001b[0mappend\u001b[0m\u001b[1;33m(\u001b[0m\u001b[0mspans\u001b[0m\u001b[1;33m[\u001b[0m\u001b[1;36m17\u001b[0m\u001b[1;33m]\u001b[0m\u001b[1;33m.\u001b[0m\u001b[0mtext\u001b[0m\u001b[1;33m)\u001b[0m\u001b[1;33m\u001b[0m\u001b[1;33m\u001b[0m\u001b[0m\n\u001b[0m\u001b[0;32m     22\u001b[0m     \u001b[1;32mreturn\u001b[0m \u001b[0mgeneral_info\u001b[0m\u001b[1;33m\u001b[0m\u001b[1;33m\u001b[0m\u001b[0m\n",
      "\u001b[1;31mIndexError\u001b[0m: list index out of range"
     ]
    }
   ],
   "source": [
    "general_info = find_general_info(driver)\n",
    "\n",
    "print(general_info)\n",
    "# time.sleep(60)"
   ]
  },
  {
   "cell_type": "code",
   "execution_count": 13,
   "metadata": {},
   "outputs": [],
   "source": [
    "def add_specific_info(general_info, driver):\n",
    "    \"\"\"\n",
    "    Returns a list with the specific information and the general information found in the header of the page for a specific search\n",
    "    \n",
    "    Params\n",
    "    -------\n",
    "    driver : selenium.webdriver.chrome.webdriver.WebDriver\n",
    "        The driver of the webpage.\n",
    "\n",
    "    Return\n",
    "    -------\n",
    "    complete_info : list\n",
    "        A list with the following columns: Tipo de Suministro, Código Postal, Potencia Contratada, Consumo Anual, Permanencia,\n",
    "        Denominación Social Empresa Comercializadora, Denominación de la Tarifa, Importe 1er Año en Euros, Importe 2do Año en Euros, \n",
    "        Validez, Servicios Adicionales Incluidos, Penalización, Verde, URL.\n",
    "    \"\"\"\n",
    "    # Create a list of list with the complete information\n",
    "    complete_info = []\n",
    "    # Find all <tr> elements\n",
    "    trs = driver.find_element_by_id(\"listadoOfertas\").find_element_by_tag_name(\"tbody\")\n",
    "    trs = trs.find_elements_by_tag_name(\"tr\")\n",
    "    # Delete the header of the table\n",
    "    trs.pop(0)\n",
    "    # Loop through the rows\n",
    "    for tr in trs:\n",
    "        # Create a list that already contains the general info elements\n",
    "        new_list = general_info.copy()\n",
    "        # \"Loop\" through the columns\n",
    "        tds = tr.find_elements_by_tag_name(\"td\")\n",
    "        # Get the alternative text of the icon displayed\n",
    "        new_list.append(tds[0].find_element_by_tag_name(\"img\").get_attribute(\"alt\"))\n",
    "        new_list.append(tds[1].text)\n",
    "        new_list.append(tds[2].text)\n",
    "        new_list.append(tds[3].text)\n",
    "        new_list.append(tds[4].text)\n",
    "        new_list.append(tds[5].text)\n",
    "        new_list.append(tds[6].text)\n",
    "        # Check if the tree icon is green or grey\n",
    "        if 'green--text' in tds[7].find_element_by_tag_name(\"i\").get_attribute('class').split():\n",
    "            new_list.append('Si')\n",
    "        else:\n",
    "            new_list.append('No')\n",
    "        # Add the link to which one is redirected when pressing the icon\n",
    "        new_list.append(tds[8].find_element_by_tag_name(\"a\").get_attribute(\"href\"))\n",
    "        # Append row to the table\n",
    "        complete_info.append(new_list)\n",
    "    return complete_info"
   ]
  },
  {
   "cell_type": "code",
   "execution_count": 14,
   "metadata": {},
   "outputs": [
    {
     "name": "stderr",
     "output_type": "stream",
     "text": [
      "<ipython-input-13-2066501b2551>:5: DeprecationWarning: find_element_by_* commands are deprecated. Please use find_element() instead\n",
      "  trs = driver.find_element_by_id(\"listadoOfertas\").find_element_by_tag_name(\"tbody\")\n",
      "C:\\Users\\Maria\\anaconda3\\lib\\site-packages\\selenium\\webdriver\\remote\\webelement.py:341: UserWarning: find_element_by_* commands are deprecated. Please use find_element() instead\n",
      "  warnings.warn(\"find_element_by_* commands are deprecated. Please use find_element() instead\")\n"
     ]
    }
   ],
   "source": [
    "complete_info = add_specific_info(general_info, driver)"
   ]
  },
  {
   "cell_type": "code",
   "execution_count": 15,
   "metadata": {},
   "outputs": [],
   "source": [
    "# Función para imprimir csv\n",
    "def print_csv(matrix, file_path):\n",
    "    with open(file_path, \"w\", newline = \"\") as output_file:\n",
    "        writer = csv.writer(output_file, delimiter = \";\")\n",
    "        for row in matrix:\n",
    "            writer.writerow(row)"
   ]
  },
  {
   "cell_type": "code",
   "execution_count": 16,
   "metadata": {},
   "outputs": [],
   "source": [
    "print_csv(complete_info, r\"tarifas_electricas.csv\")"
   ]
  },
  {
   "cell_type": "code",
   "execution_count": 1,
   "metadata": {},
   "outputs": [
    {
     "ename": "NameError",
     "evalue": "name 'driver' is not defined",
     "output_type": "error",
     "traceback": [
      "\u001b[1;31m---------------------------------------------------------------------------\u001b[0m",
      "\u001b[1;31mNameError\u001b[0m                                 Traceback (most recent call last)",
      "\u001b[1;32m<ipython-input-1-edc6c27c0986>\u001b[0m in \u001b[0;36m<module>\u001b[1;34m\u001b[0m\n\u001b[1;32m----> 1\u001b[1;33m \u001b[0mdriver\u001b[0m\u001b[1;33m.\u001b[0m\u001b[0mquit\u001b[0m\u001b[1;33m(\u001b[0m\u001b[1;33m)\u001b[0m\u001b[1;33m\u001b[0m\u001b[1;33m\u001b[0m\u001b[0m\n\u001b[0m",
      "\u001b[1;31mNameError\u001b[0m: name 'driver' is not defined"
     ]
    }
   ],
   "source": [
    "driver.quit()"
   ]
  },
  {
   "cell_type": "code",
   "execution_count": null,
   "metadata": {},
   "outputs": [],
   "source": []
  }
 ],
 "metadata": {
  "kernelspec": {
   "display_name": "Python 3",
   "language": "python",
   "name": "python3"
  },
  "language_info": {
   "codemirror_mode": {
    "name": "ipython",
    "version": 3
   },
   "file_extension": ".py",
   "mimetype": "text/x-python",
   "name": "python",
   "nbconvert_exporter": "python",
   "pygments_lexer": "ipython3",
   "version": "3.8.8"
  }
 },
 "nbformat": 4,
 "nbformat_minor": 4
}
