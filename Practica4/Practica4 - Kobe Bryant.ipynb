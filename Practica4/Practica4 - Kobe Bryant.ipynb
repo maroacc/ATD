{
 "cells": [
  {
   "cell_type": "code",
   "execution_count": 31,
   "id": "50548d13",
   "metadata": {},
   "outputs": [],
   "source": [
    "# PRÁCTICA 4 - Kobe Bryant\n",
    "# María José Medina Hernández"
   ]
  },
  {
   "cell_type": "code",
   "execution_count": 32,
   "id": "15b555c1",
   "metadata": {},
   "outputs": [],
   "source": [
    "# Imports\n",
    "import json\n",
    "import numpy as np"
   ]
  },
  {
   "cell_type": "code",
   "execution_count": 33,
   "id": "9148e299",
   "metadata": {},
   "outputs": [],
   "source": [
    "# Params\n",
    "json_path = r\"C:\\Users\\Maria\\github\\ATD\\Practica4\\kobe.json\""
   ]
  },
  {
   "cell_type": "code",
   "execution_count": 34,
   "id": "1c91ab29",
   "metadata": {},
   "outputs": [],
   "source": [
    "def load_json(path):\n",
    "    \"\"\"\n",
    "    Loads JSON file in given path into a dictionary that will\n",
    "    be returned.\n",
    "    \n",
    "    Params\n",
    "    -------\n",
    "    path : str\n",
    "        The path to the target JSON file.\n",
    "\n",
    "    Return\n",
    "    -------\n",
    "    d : dic\n",
    "        The dictionary with the JSON content loaded.\n",
    "    \"\"\"\n",
    "    with open(path, \"r\") as input_file:\n",
    "        d = json.load(input_file)\n",
    "    return d"
   ]
  },
  {
   "cell_type": "code",
   "execution_count": 35,
   "id": "e71c5bab",
   "metadata": {},
   "outputs": [],
   "source": [
    "d = load_json(json_path)"
   ]
  },
  {
   "cell_type": "code",
   "execution_count": 36,
   "id": "1113aea5",
   "metadata": {},
   "outputs": [],
   "source": [
    "# Cabecera\n",
    "regular_season_stats = [[\"AÑO DE LA TEMPORADA\", \"EDAD DEL JUGADOR\", \"PARTIDOS DISPUTADOS\", \"MEDIA DE PUNTOS ANOTADOS\", \"MEDIA DE ASISTENCIAS REPARTIDAS\", \"MEDIA DE REBOTES RECOGIDOS\"]]\n",
    "\n",
    "# Datos de cada temporada\n",
    "# Cogemos los datos de la temporada regular\n",
    "# y la trasponemos para que sea más sencillo acceder a los elementos necesarios\n",
    "a =list(zip(*d['resultSets'][0]['rowSet']))\n",
    "# Cogemos las columnas que nos interesan\n",
    "b = [list(a[1]), list(a[5]), list(a[6]), list(a[-1]), list(a[-6]), list(a[13])]\n",
    "# Volvemos a trasponer la matriz\n",
    "c = list(map(list, zip(*b)))\n",
    "# Juntamos la cabecera y los datos\n",
    "regular_season_stats.extend(c)"
   ]
  },
  {
   "cell_type": "code",
   "execution_count": 37,
   "id": "169b0704",
   "metadata": {},
   "outputs": [],
   "source": [
    "def get_max_season(season_stats):\n",
    "        \"\"\"\n",
    "        Returns the season with maximum points.\n",
    "    \n",
    "        Params\n",
    "        -------\n",
    "        season_stats : list of lists\n",
    "            Matrix with season data.\n",
    "\n",
    "        Return\n",
    "        -------\n",
    "        season : str\n",
    "            Season with maximum points.\n",
    "        \"\"\"\n",
    "        points = np.zeros(len(season_stats)-1)\n",
    "        for i in range(len(points)):\n",
    "            points[i] = season_stats[i+1][2]*season_stats[i+1][3]\n",
    "            \n",
    "        ind = np.argmax(points)+1\n",
    "        season = season_stats[ind][0]\n",
    "        return season"
   ]
  },
  {
   "cell_type": "code",
   "execution_count": 38,
   "id": "a21f6a62",
   "metadata": {},
   "outputs": [
    {
     "data": {
      "text/plain": [
       "'2005-06'"
      ]
     },
     "execution_count": 38,
     "metadata": {},
     "output_type": "execute_result"
    }
   ],
   "source": [
    "season_max_points = get_max_season(regular_season_stats)\n",
    "season_max_points"
   ]
  },
  {
   "cell_type": "code",
   "execution_count": 21,
   "id": "8761653e",
   "metadata": {},
   "outputs": [],
   "source": [
    "def get_min_season(season_stats):\n",
    "        \"\"\"\n",
    "        Returns the season with minimum points.\n",
    "    \n",
    "        Params\n",
    "        -------\n",
    "        season_stats : list of lists\n",
    "            Matrix with season data.\n",
    "\n",
    "        Return\n",
    "        -------\n",
    "        season : str\n",
    "            Season with minimum points.\n",
    "        \"\"\"\n",
    "        points = np.zeros(len(season_stats)-1)\n",
    "        for i in range(len(points)):\n",
    "            points[i] = season_stats[i+1][2]*season_stats[i+1][3]\n",
    "            \n",
    "        ind = np.argmin(points)+1\n",
    "        season = season_stats[ind][0]\n",
    "        return season"
   ]
  },
  {
   "cell_type": "code",
   "execution_count": 39,
   "id": "fbb72b24",
   "metadata": {},
   "outputs": [
    {
     "data": {
      "text/plain": [
       "'2013-14'"
      ]
     },
     "execution_count": 39,
     "metadata": {},
     "output_type": "execute_result"
    }
   ],
   "source": [
    "season_min_points = get_min_season(regular_season_stats)\n",
    "season_min_points"
   ]
  },
  {
   "cell_type": "code",
   "execution_count": 46,
   "id": "5870ee5c",
   "metadata": {},
   "outputs": [],
   "source": [
    "def get_avg_points(season_stats):\n",
    "    \"\"\"\n",
    "    Returns average points.\n",
    "\n",
    "    Params\n",
    "    -------\n",
    "    season_stats : list of lists\n",
    "        Matrix with season data.\n",
    "\n",
    "    Return\n",
    "    -------\n",
    "    avg_points : str\n",
    "        Average points of all seasons.\n",
    "    \"\"\"\n",
    "    total_points = 0\n",
    "    total_matches = 0\n",
    "\n",
    "    for i in range(len(season_stats)-1):\n",
    "        total_points = total_points + season_stats[i+1][2]*season_stats[i+1][3]\n",
    "        total_matches = total_matches + season_stats[i+1][2]\n",
    "\n",
    "    avg_points = total_points/total_matches\n",
    "    return avg_points"
   ]
  },
  {
   "cell_type": "code",
   "execution_count": 47,
   "id": "162044e4",
   "metadata": {},
   "outputs": [
    {
     "data": {
      "text/plain": [
       "24.987592867756316"
      ]
     },
     "execution_count": 47,
     "metadata": {},
     "output_type": "execute_result"
    }
   ],
   "source": [
    "avg_career_points = get_avg_points(regular_season_stats)\n",
    "avg_career_points"
   ]
  },
  {
   "cell_type": "code",
   "execution_count": 58,
   "id": "e1dd9c36",
   "metadata": {},
   "outputs": [],
   "source": [
    "def get_avg_rebounds(season_stats):\n",
    "    \"\"\"\n",
    "    Returns average rebounds.\n",
    "\n",
    "    Params\n",
    "    -------\n",
    "    season_stats : list of lists\n",
    "        Matrix with season data.\n",
    "\n",
    "    Return\n",
    "    -------\n",
    "    avg_rebounds : str\n",
    "        Average rebounds of all seasons.\n",
    "    \"\"\"\n",
    "    total_rebounds = 0\n",
    "    total_matches = 0\n",
    "\n",
    "    for i in range(len(season_stats)-1):\n",
    "        total_rebounds = total_rebounds + season_stats[i+1][-1]*season_stats[i+1][2]\n",
    "        total_matches = total_matches + season_stats[i+1][2]\n",
    "\n",
    "    avg_rebounds = total_rebounds/total_matches\n",
    "    return avg_rebounds"
   ]
  },
  {
   "cell_type": "code",
   "execution_count": 59,
   "id": "4346f1c7",
   "metadata": {},
   "outputs": [
    {
     "data": {
      "text/plain": [
       "4.1257057949479945"
      ]
     },
     "execution_count": 59,
     "metadata": {},
     "output_type": "execute_result"
    }
   ],
   "source": [
    "avg_career_rebounds = get_avg_rebounds(regular_season_stats)\n",
    "avg_career_rebounds"
   ]
  },
  {
   "cell_type": "code",
   "execution_count": 60,
   "id": "ab891c5f",
   "metadata": {},
   "outputs": [],
   "source": [
    "def get_avg_assists(season_stats):\n",
    "    \"\"\"\n",
    "    Returns average assists.\n",
    "\n",
    "    Params\n",
    "    -------\n",
    "    season_stats : list of lists\n",
    "        Matrix with season data.\n",
    "\n",
    "    Return\n",
    "    -------\n",
    "    avg_assists : str\n",
    "        Average assists of all seasons.\n",
    "    \"\"\"\n",
    "    total_assists = 0\n",
    "    total_matches = 0\n",
    "\n",
    "    for i in range(len(season_stats)-1):\n",
    "        total_assists = total_assists + season_stats[i+1][-2]*season_stats[i+1][2]\n",
    "        total_matches = total_matches + season_stats[i+1][2]\n",
    "\n",
    "    avg_assists = total_assists/total_matches\n",
    "    return avg_assists"
   ]
  },
  {
   "cell_type": "code",
   "execution_count": 61,
   "id": "1a4d063d",
   "metadata": {},
   "outputs": [
    {
     "data": {
      "text/plain": [
       "4.6944279346211"
      ]
     },
     "execution_count": 61,
     "metadata": {},
     "output_type": "execute_result"
    }
   ],
   "source": [
    "avg_career_assists = get_avg_assists(regular_season_stats)\n",
    "avg_career_assists"
   ]
  },
  {
   "cell_type": "code",
   "execution_count": 17,
   "id": "f7ad009a",
   "metadata": {},
   "outputs": [
    {
     "data": {
      "text/plain": [
       "[['AÑO DE LA TEMPORADA',\n",
       "  'EDAD DEL JUGADOR',\n",
       "  'PARTIDOS DISPUTADOS',\n",
       "  'MEDIA DE PUNTOS ANOTADOS',\n",
       "  'MEDIA DE ASISTENCIAS REPARTIDAS',\n",
       "  'MEDIA DE REBOTES RECOGIDOS'],\n",
       " ['1996-97', 18.0, 71, 7.6, 1.3, 1.9],\n",
       " ['1997-98', 19.0, 79, 15.4, 2.5, 2.8],\n",
       " ['1998-99', 20.0, 50, 19.9, 3.8, 2.0],\n",
       " ['1999-00', 21.0, 66, 22.5, 4.9, 2.2],\n",
       " ['2000-01', 22.0, 68, 28.5, 5.0, 2.9],\n",
       " ['2001-02', 23.0, 80, 25.2, 5.5, 1.7],\n",
       " ['2002-03', 24.0, 82, 30.0, 5.9, 4.0],\n",
       " ['2003-04', 25.0, 65, 24.0, 5.1, 3.3],\n",
       " ['2004-05', 26.0, 66, 27.6, 6.0, 5.9],\n",
       " ['2005-06', 27.0, 80, 35.4, 4.5, 6.5],\n",
       " ['2006-07', 28.0, 77, 31.6, 5.4, 5.2],\n",
       " ['2007-08', 29.0, 82, 28.3, 5.4, 5.1],\n",
       " ['2008-09', 30.0, 82, 26.8, 4.9, 4.1],\n",
       " ['2009-10', 31.0, 73, 27.0, 5.0, 4.1],\n",
       " ['2010-11', 32.0, 82, 25.3, 4.7, 4.3],\n",
       " ['2011-12', 33.0, 58, 27.9, 4.6, 4.9],\n",
       " ['2012-13', 34.0, 78, 27.3, 6.0, 5.2],\n",
       " ['2013-14', 35.0, 6, 13.8, 6.3, 2.7],\n",
       " ['2014-15', 36.0, 35, 22.3, 5.6, 5.3],\n",
       " ['2015-16', 37.0, 66, 17.6, 2.8, 7.1]]"
      ]
     },
     "execution_count": 17,
     "metadata": {},
     "output_type": "execute_result"
    }
   ],
   "source": [
    "regular_season_stats"
   ]
  },
  {
   "cell_type": "code",
   "execution_count": 18,
   "id": "8ea3f9c9",
   "metadata": {},
   "outputs": [],
   "source": [
    "# Cabecera\n",
    "post_season_stats = [[\"AÑO DE LA TEMPORADA\", \"EDAD DEL JUGADOR\", \"PARTIDOS DISPUTADOS\", \"MEDIA DE PUNTOS ANOTADOS\", \"MEDIA DE ASISTENCIAS REPARTIDAS\", \"MEDIA DE REBOTES RECOGIDOS\"]]\n",
    "\n",
    "# Datos de cada temporada\n",
    "# Cogemos los datos de la temporada regular\n",
    "# y la trasponemos para que sea más sencillo acceder a los elementos necesarios\n",
    "a =list(zip(*d['resultSets'][2]['rowSet']))\n",
    "# Cogemos las columnas que nos interesan\n",
    "b = [list(a[1]), list(a[5]), list(a[6]), list(a[-1]), list(a[-6]), list(a[13])]\n",
    "# Volvemos a trasponer la matriz\n",
    "c = list(map(list, zip(*b)))\n",
    "# Juntamos la cabecera y los datos\n",
    "post_season_stats.extend(c)"
   ]
  },
  {
   "cell_type": "code",
   "execution_count": 19,
   "id": "5163f8e8",
   "metadata": {},
   "outputs": [
    {
     "data": {
      "text/plain": [
       "[['AÑO DE LA TEMPORADA',\n",
       "  'EDAD DEL JUGADOR',\n",
       "  'PARTIDOS DISPUTADOS',\n",
       "  'MEDIA DE PUNTOS ANOTADOS',\n",
       "  'MEDIA DE ASISTENCIAS REPARTIDAS',\n",
       "  'MEDIA DE REBOTES RECOGIDOS'],\n",
       " ['1996-97', 18.0, 9, 8.2, 1.2, 2.6],\n",
       " ['1997-98', 19.0, 11, 8.7, 1.5, 1.3],\n",
       " ['1998-99', 20.0, 8, 19.8, 4.6, 2.9],\n",
       " ['1999-00', 21.0, 22, 21.1, 4.4, 2.9],\n",
       " ['2000-01', 22.0, 16, 29.4, 6.1, 2.1],\n",
       " ['2001-02', 23.0, 19, 26.6, 4.6, 3.1],\n",
       " ['2002-03', 24.0, 12, 32.1, 5.2, 5.2],\n",
       " ['2003-04', 25.0, 22, 24.5, 5.5, 4.4],\n",
       " ['2005-06', 27.0, 7, 27.9, 5.1, 5.0],\n",
       " ['2006-07', 28.0, 5, 32.8, 4.4, 5.6],\n",
       " ['2007-08', 29.0, 21, 30.1, 5.6, 5.0],\n",
       " ['2008-09', 30.0, 23, 30.2, 5.5, 4.6],\n",
       " ['2009-10', 31.0, 23, 29.2, 5.5, 5.7],\n",
       " ['2010-11', 32.0, 10, 22.8, 3.3, 4.1],\n",
       " ['2011-12', 33.0, 12, 30.0, 4.3, 5.0]]"
      ]
     },
     "execution_count": 19,
     "metadata": {},
     "output_type": "execute_result"
    }
   ],
   "source": [
    "post_season_stats"
   ]
  },
  {
   "cell_type": "code",
   "execution_count": 20,
   "id": "dfbc81b6",
   "metadata": {},
   "outputs": [],
   "source": [
    "def is_better(A_season_stats, B_season_stats):\n",
    "    \"\"\"\n",
    "    Returns an array of whether season A's avg poins is higher than season B's.\n",
    "\n",
    "    Params\n",
    "    -------\n",
    "    A_season_stats : list of lists\n",
    "        Array with season data.\n",
    "        \n",
    "    B_season_stats : list of lists\n",
    "        Array with season data.\n",
    "\n",
    "    Return\n",
    "    -------\n",
    "    is_better : boolean\n",
    "        True if season A is better than season B\n",
    "        False if season A is worse than season B\n",
    "    \"\"\"\n",
    "\n",
    "    is_better = (A_season_stats[3]> B_season_stats[3])\n",
    "    \n",
    "    return is_better  "
   ]
  },
  {
   "cell_type": "code",
   "execution_count": 21,
   "id": "e4c5447e",
   "metadata": {},
   "outputs": [],
   "source": [
    "# List with post seasons played\n",
    "post_seasons = list(zip(*post_season_stats))[0]\n",
    "\n",
    "# Allocate memory for the list\n",
    "better_in_post_season = [0]*(len(regular_season_stats)-1)\n",
    "\n",
    "#Counter to iterate the post season table\n",
    "post_counter = 0\n",
    "\n",
    "\n",
    "for i in range(len(regular_season_stats)-1):\n",
    "    # Check if the post season was played\n",
    "    if regular_season_stats[i+1][0] in post_seasons:\n",
    "        # Check if the average match score was higher in the season or the post season\n",
    "        better_in_post_season[i] = is_better(regular_season_stats[i+1], post_season_stats[post_counter+1])\n",
    "        # Augment post_counter because the post season was played\n",
    "        post_counter+=1\n",
    "    else:\n",
    "        better_in_post_season[i] = \"N/A\"\n"
   ]
  },
  {
   "cell_type": "code",
   "execution_count": 23,
   "id": "27d42a42",
   "metadata": {},
   "outputs": [
    {
     "data": {
      "text/plain": [
       "[False,\n",
       " True,\n",
       " True,\n",
       " True,\n",
       " False,\n",
       " False,\n",
       " False,\n",
       " False,\n",
       " 'N/A',\n",
       " True,\n",
       " False,\n",
       " False,\n",
       " False,\n",
       " False,\n",
       " True,\n",
       " False,\n",
       " 'N/A',\n",
       " 'N/A',\n",
       " 'N/A',\n",
       " 'N/A']"
      ]
     },
     "execution_count": 23,
     "metadata": {},
     "output_type": "execute_result"
    }
   ],
   "source": [
    "better_in_post_season"
   ]
  },
  {
   "cell_type": "code",
   "execution_count": null,
   "id": "f58a4a8f",
   "metadata": {},
   "outputs": [],
   "source": []
  },
  {
   "cell_type": "code",
   "execution_count": null,
   "id": "cc5c1fcd",
   "metadata": {},
   "outputs": [],
   "source": []
  }
 ],
 "metadata": {
  "kernelspec": {
   "display_name": "Python 3",
   "language": "python",
   "name": "python3"
  },
  "language_info": {
   "codemirror_mode": {
    "name": "ipython",
    "version": 3
   },
   "file_extension": ".py",
   "mimetype": "text/x-python",
   "name": "python",
   "nbconvert_exporter": "python",
   "pygments_lexer": "ipython3",
   "version": "3.8.8"
  }
 },
 "nbformat": 4,
 "nbformat_minor": 5
}
