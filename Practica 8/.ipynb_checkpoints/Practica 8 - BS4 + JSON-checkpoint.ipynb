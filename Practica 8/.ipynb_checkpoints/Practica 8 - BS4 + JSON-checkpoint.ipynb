{
 "cells": [
  {
   "cell_type": "code",
   "execution_count": 1,
   "id": "6210ab32-bf61-4a9b-95af-dc805338b0ae",
   "metadata": {},
   "outputs": [],
   "source": [
    "# Practica 8 - BS4 + JSON\n",
    "# María José Medina Hernández"
   ]
  },
  {
   "cell_type": "code",
   "execution_count": 2,
   "id": "e6b8257b-c9fc-4fa5-acaa-bbe3c58b82cc",
   "metadata": {},
   "outputs": [],
   "source": [
    "# Imports\n",
    "import requests\n",
    "import json\n",
    "import re\n",
    "from bs4 import BeautifulSoup"
   ]
  },
  {
   "cell_type": "code",
   "execution_count": 3,
   "id": "2df3f304-131d-4c01-9dfe-371445de3bd4",
   "metadata": {},
   "outputs": [],
   "source": [
    "# Download the HTML \n",
    "url = \"https://en.wikipedia.org/wiki/World_population\"\n",
    "response = requests.get(url)"
   ]
  },
  {
   "cell_type": "code",
   "execution_count": 4,
   "id": "14d510c2-54b4-4e36-8913-fc489c118ebe",
   "metadata": {},
   "outputs": [],
   "source": [
    "# Parse the HTML\n",
    "soup = BeautifulSoup(response.content, \"html.parser\")"
   ]
  },
  {
   "cell_type": "code",
   "execution_count": 5,
   "id": "412da03d-f71f-4da5-9865-aae12711d6c1",
   "metadata": {},
   "outputs": [],
   "source": [
    "def find_data(soup):\n",
    "    \"\"\"\n",
    "    Finds data of the continents and parses it to a dictionary.\n",
    "    \n",
    "    Params\n",
    "    -------\n",
    "    soup : bs4.BeautifulSoup\n",
    "        Parsed html document.\n",
    "\n",
    "    Return\n",
    "    -------\n",
    "    data : dic\n",
    "        The dictionary with the data of each continent.\n",
    "    \"\"\"\n",
    "    data = {}\n",
    "    trs = soup.find(\"table\", class_=\"wikitable sortable\").find_all(\"tr\")\n",
    "    for tr in trs:\n",
    "        tds = tr.find_all(\"td\")\n",
    "\n",
    "        if tds:\n",
    "            density = tds[1].get_text().strip()\n",
    "            density = re.sub(\"[\\(\\[].*?[\\)\\]]\", \"\", density) # Take out any notes\n",
    "            population = tds[2].get_text().strip()\n",
    "            population = re.sub(\"[\\(\\[].*?[\\)\\]]\", \"\", population)\n",
    "            city = tds[4].get_text().strip().replace(u'\\xa0', u'').split(\"–\")[1].strip().split(\";\")[0]\n",
    "            city = re.sub(\"[\\(\\[].*?[\\)\\]]\", \"\", city)\n",
    "            city_pop = tds[4].get_text().strip().split(\" \")[0].split(\"[\")[0]\n",
    "            city_pop = re.sub(\"[\\(\\[].*?[\\)\\]]\", \"\", city_pop)\n",
    "            # If there are countries in the continent (eg Antarctica is empty)\n",
    "            if \"N/A\" not in tds[3].get_text().strip():\n",
    "                country = tds[3].get_text().strip().replace(u'\\xa0', u'').split(\"–\")[1].strip().split(\";\")[0]\n",
    "                country = re.sub(\"[\\(\\[].*?[\\)\\]]\", \"\", country)\n",
    "                country_pop = tds[3].get_text().strip().split(\" \")[0].split(\"[\")[0]\n",
    "                country_pop = re.sub(\"[\\(\\[].*?[\\)\\]]\", \"\", country_pop)\n",
    "                aux = {\n",
    "                    \"density\" : density,\n",
    "                    \"population\" : population,\n",
    "                    \"most populous country\" : {\n",
    "                        \"country\" : country,\n",
    "                        \"population\" : country_pop\n",
    "                    },\n",
    "                    \"most populous city\": {\n",
    "                        \"city\": city,\n",
    "                        \"population\" : city_pop\n",
    "                    }\n",
    "                }\n",
    "            else:\n",
    "                aux = {\n",
    "                    \"density\" : density,\n",
    "                    \"population\" : re.sub(\"[\\(\\[].*?[\\)\\]]\", \"\", population),\n",
    "                    \"most populous city\": {\n",
    "                        \"city\": city,\n",
    "                        \"population\" : city_pop\n",
    "                    }\n",
    "                }\n",
    "            data[tds[0].get_text().strip()] = aux\n",
    "    return data"
   ]
  },
  {
   "cell_type": "code",
   "execution_count": 7,
   "id": "e9a93b58-8a88-418b-aeb8-e104fcddfd5d",
   "metadata": {},
   "outputs": [],
   "source": [
    "data = find_data(soup)"
   ]
  },
  {
   "cell_type": "code",
   "execution_count": 8,
   "id": "d12bdbb5-88c7-4b2e-90c6-cea2e1f1d893",
   "metadata": {},
   "outputs": [],
   "source": [
    "def print_json(dic, file_path):\n",
    "    with open(file_path, \"w\") as output_file:\n",
    "        json.dump(dic, output_file)"
   ]
  },
  {
   "cell_type": "code",
   "execution_count": 9,
   "id": "01d83529-2f06-4dad-baeb-66fa6e1f2d05",
   "metadata": {},
   "outputs": [],
   "source": [
    "file_path = r\"world-population.json\"\n",
    "print_json(data, file_path)"
   ]
  },
  {
   "cell_type": "code",
   "execution_count": 10,
   "id": "7ed86edd-aff9-4214-9f21-288a4b3040e7",
   "metadata": {},
   "outputs": [
    {
     "data": {
      "text/plain": [
       "bs4.BeautifulSoup"
      ]
     },
     "execution_count": 10,
     "metadata": {},
     "output_type": "execute_result"
    }
   ],
   "source": [
    "type(soup)"
   ]
  },
  {
   "cell_type": "code",
   "execution_count": null,
   "id": "cf3957fd-0975-41c5-8a33-a11321da903e",
   "metadata": {},
   "outputs": [],
   "source": []
  }
 ],
 "metadata": {
  "kernelspec": {
   "display_name": "Python 3",
   "language": "python",
   "name": "python3"
  },
  "language_info": {
   "codemirror_mode": {
    "name": "ipython",
    "version": 3
   },
   "file_extension": ".py",
   "mimetype": "text/x-python",
   "name": "python",
   "nbconvert_exporter": "python",
   "pygments_lexer": "ipython3",
   "version": "3.8.8"
  }
 },
 "nbformat": 4,
 "nbformat_minor": 5
}
