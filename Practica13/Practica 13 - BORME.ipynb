{
 "cells": [
  {
   "cell_type": "code",
   "execution_count": 1,
   "id": "1067f180-9573-4831-9405-80e3a5badd50",
   "metadata": {},
   "outputs": [],
   "source": [
    "# Practica 13 - BORME\n",
    "# María José Medina Hernández"
   ]
  },
  {
   "cell_type": "code",
   "execution_count": 2,
   "id": "fbd7831a-13d1-4343-9f17-ee5c5a8bb65c",
   "metadata": {},
   "outputs": [],
   "source": [
    "# Imports\n",
    "import requests\n",
    "import time\n",
    "import logging\n",
    "import urllib.request\n",
    "from selenium import webdriver\n",
    "from selenium.webdriver.common.action_chains import ActionChains\n",
    "from os import makedirs\n",
    "from os.path import exists"
   ]
  },
  {
   "cell_type": "code",
   "execution_count": 3,
   "id": "27d3d28f-72d9-4584-a3a6-82dc4fa47140",
   "metadata": {},
   "outputs": [
    {
     "name": "stderr",
     "output_type": "stream",
     "text": [
      "INFO:root:info\n"
     ]
    }
   ],
   "source": [
    "# Configure logging\n",
    "logger = logging.getLogger()\n",
    "logger.setLevel(logging.INFO)\n",
    "logging.info(\"info\")"
   ]
  },
  {
   "cell_type": "code",
   "execution_count": 4,
   "id": "a8f07b4d-7101-40a3-a6ca-e3f6ac459eb7",
   "metadata": {},
   "outputs": [],
   "source": [
    "# Download the HTML \n",
    "url = \"https://en.wikipedia.org/wiki/World_population\"\n",
    "response = requests.get(url)"
   ]
  },
  {
   "cell_type": "code",
   "execution_count": 5,
   "id": "22aa5190-4158-4de8-87c7-31f7dacdfb96",
   "metadata": {},
   "outputs": [],
   "source": [
    "boletin = \"20211217\" #12/12/2021"
   ]
  },
  {
   "cell_type": "code",
   "execution_count": 6,
   "id": "8eb196b7-22fb-4d1c-a483-16e1cb011c19",
   "metadata": {},
   "outputs": [],
   "source": [
    "# Create directory for the PDFs\n",
    "directory = f\"Boletin-{boletin}\"\n",
    "if not exists(directory):\n",
    "    makedirs(directory)"
   ]
  },
  {
   "cell_type": "code",
   "execution_count": 7,
   "id": "2aa6b5f3-50c9-4ece-9c8d-dac0a8934f14",
   "metadata": {},
   "outputs": [],
   "source": [
    "def format_date(date):\n",
    "    \"\"\"\n",
    "    Formats \"YYYYMMDD\" date into \"DD/MM/YYYY\" date.\n",
    "    \n",
    "    Params\n",
    "    -------\n",
    "    date : string\n",
    "        The date string \"YYYYMMDD\".\n",
    "\n",
    "    Return\n",
    "    -------\n",
    "    f_date : string\n",
    "        Formatted date \"DD/MM/YYYY\".\n",
    "    \"\"\"\n",
    "    date = date.strip()\n",
    "    year = date[0:4]\n",
    "    month = date[4:6]\n",
    "    day = date[6:8]\n",
    "    f_date = f\"{day}/{month}/{year}\"\n",
    "    return f_date"
   ]
  },
  {
   "cell_type": "code",
   "execution_count": 8,
   "id": "6bec6b5c-40ba-4f19-8333-b9bbfb99d4a8",
   "metadata": {},
   "outputs": [
    {
     "name": "stdout",
     "output_type": "stream",
     "text": [
      "17/12/2021\n"
     ]
    }
   ],
   "source": [
    "date = format_date(boletin)\n",
    "print(date)"
   ]
  },
  {
   "cell_type": "code",
   "execution_count": 9,
   "id": "f01ad394-6a2a-46fc-9001-553d4cf4636a",
   "metadata": {},
   "outputs": [
    {
     "name": "stderr",
     "output_type": "stream",
     "text": [
      "<ipython-input-9-9ea946ed2044>:4: DeprecationWarning: executable_path has been deprecated, please pass in a Service object\n",
      "  driver = webdriver.Chrome(executable_path=chromedriver_path)\n"
     ]
    }
   ],
   "source": [
    "# Deploy the Chrome diver executed by Selenium\n",
    "chromedriver_path = r\"..\\chromedriver_win32\\chromedriver\"\n",
    "# Path to the Chrome driver\n",
    "driver = webdriver.Chrome(executable_path=chromedriver_path)\n",
    "url = \"https://www.boe.es/diario_borme/\"\n",
    "driver.get(url)\n",
    "time.sleep(2)"
   ]
  },
  {
   "cell_type": "code",
   "execution_count": 10,
   "id": "36aac6be-0f1e-465e-84a8-ef1a7875ef66",
   "metadata": {},
   "outputs": [
    {
     "name": "stderr",
     "output_type": "stream",
     "text": [
      "<ipython-input-10-28c1e3385978>:3: DeprecationWarning: find_element_by_* commands are deprecated. Please use find_element() instead\n",
      "  driver.find_element_by_id(\"fechaBORME\").send_keys(date)\n",
      "<ipython-input-10-28c1e3385978>:4: DeprecationWarning: find_element_by_* commands are deprecated. Please use find_element() instead\n",
      "  divs = driver.find_element_by_name(\"acc\").click()\n"
     ]
    }
   ],
   "source": [
    "# Input the desired date in the calendar\n",
    "try:\n",
    "    driver.find_element_by_id(\"fechaBORME\").send_keys(date)\n",
    "    divs = driver.find_element_by_name(\"acc\").click()\n",
    "except:\n",
    "    logging.error(f\"No existe boletín para la fecha {date}\")\n"
   ]
  },
  {
   "cell_type": "code",
   "execution_count": 11,
   "id": "e6c9e786-8c69-4b26-a4e6-d1f81764bb21",
   "metadata": {},
   "outputs": [],
   "source": [
    "# TODO: METER TODO EN EL TRY EXCEPT\n",
    "# TODO: add sleep"
   ]
  },
  {
   "cell_type": "code",
   "execution_count": 12,
   "id": "5738cbf7-1add-406d-9f51-7732443c98dc",
   "metadata": {},
   "outputs": [
    {
     "name": "stderr",
     "output_type": "stream",
     "text": [
      "<ipython-input-12-982425ddb8e5>:1: DeprecationWarning: find_element_by_* commands are deprecated. Please use find_element() instead\n",
      "  ActionChains(driver).move_to_element(driver.find_element_by_id(\"sec240C\")).perform()\n"
     ]
    }
   ],
   "source": [
    "ActionChains(driver).move_to_element(driver.find_element_by_id(\"sec240C\")).perform()"
   ]
  },
  {
   "cell_type": "code",
   "execution_count": 13,
   "id": "fc52b24c-352a-4417-b375-463f988ed1e2",
   "metadata": {},
   "outputs": [
    {
     "name": "stderr",
     "output_type": "stream",
     "text": [
      "<ipython-input-13-cb33047dc558>:2: DeprecationWarning: find_elements_by_* commands are deprecated. Please use find_elements() instead\n",
      "  titles = driver.find_elements_by_xpath(\"//h3[@id='sec240C']/following-sibling::h4\")\n",
      "C:\\Users\\Maria\\anaconda3\\lib\\site-packages\\selenium\\webdriver\\remote\\webelement.py:393: UserWarning: find_element_by_* commands are deprecated. Please use find_element() instead\n",
      "  warnings.warn(\"find_element_by_* commands are deprecated. Please use find_element() instead\")\n",
      "C:\\Users\\Maria\\anaconda3\\lib\\site-packages\\selenium\\webdriver\\remote\\webelement.py:426: UserWarning: find_elements_by_* commands are deprecated. Please use find_elements() instead\n",
      "  warnings.warn(\"find_elements_by_* commands are deprecated. Please use find_elements() instead\")\n",
      "INFO:root:Boletin-20211217/BALANCES ----- https://www.boe.es/borme/dias/2021/12/17/pdfs/BORME-C-2021-8395.pdf\n",
      "INFO:root:Boletin-20211217/BALANCES ----- https://www.boe.es/borme/dias/2021/12/17/pdfs/BORME-C-2021-8396.pdf\n",
      "INFO:root:Boletin-20211217/CONVOCATORIAS DE JUNTAS ----- https://www.boe.es/borme/dias/2021/12/17/pdfs/BORME-C-2021-8397.pdf\n",
      "INFO:root:Boletin-20211217/CONVOCATORIAS DE JUNTAS ----- https://www.boe.es/borme/dias/2021/12/17/pdfs/BORME-C-2021-8398.pdf\n",
      "INFO:root:Boletin-20211217/CONVOCATORIAS DE JUNTAS ----- https://www.boe.es/borme/dias/2021/12/17/pdfs/BORME-C-2021-8399.pdf\n",
      "INFO:root:Boletin-20211217/CONVOCATORIAS DE JUNTAS ----- https://www.boe.es/borme/dias/2021/12/17/pdfs/BORME-C-2021-8400.pdf\n",
      "INFO:root:Boletin-20211217/CONVOCATORIAS DE JUNTAS ----- https://www.boe.es/borme/dias/2021/12/17/pdfs/BORME-C-2021-8401.pdf\n",
      "INFO:root:Boletin-20211217/CONVOCATORIAS DE JUNTAS ----- https://www.boe.es/borme/dias/2021/12/17/pdfs/BORME-C-2021-8402.pdf\n",
      "INFO:root:Boletin-20211217/CONVOCATORIAS DE JUNTAS ----- https://www.boe.es/borme/dias/2021/12/17/pdfs/BORME-C-2021-8403.pdf\n",
      "INFO:root:Boletin-20211217/CONVOCATORIAS DE JUNTAS ----- https://www.boe.es/borme/dias/2021/12/17/pdfs/BORME-C-2021-8404.pdf\n",
      "INFO:root:Boletin-20211217/CONVOCATORIAS DE JUNTAS ----- https://www.boe.es/borme/dias/2021/12/17/pdfs/BORME-C-2021-8405.pdf\n",
      "INFO:root:Boletin-20211217/CONVOCATORIAS DE JUNTAS ----- https://www.boe.es/borme/dias/2021/12/17/pdfs/BORME-C-2021-8406.pdf\n",
      "INFO:root:Boletin-20211217/CONVOCATORIAS DE JUNTAS ----- https://www.boe.es/borme/dias/2021/12/17/pdfs/BORME-C-2021-8407.pdf\n",
      "INFO:root:Boletin-20211217/FUSIONES Y ABSORCIONES DE EMPRESAS ----- https://www.boe.es/borme/dias/2021/12/17/pdfs/BORME-C-2021-8408.pdf\n",
      "INFO:root:Boletin-20211217/FUSIONES Y ABSORCIONES DE EMPRESAS ----- https://www.boe.es/borme/dias/2021/12/17/pdfs/BORME-C-2021-8409.pdf\n",
      "INFO:root:Boletin-20211217/FUSIONES Y ABSORCIONES DE EMPRESAS ----- https://www.boe.es/borme/dias/2021/12/17/pdfs/BORME-C-2021-8410.pdf\n",
      "INFO:root:Boletin-20211217/FUSIONES Y ABSORCIONES DE EMPRESAS ----- https://www.boe.es/borme/dias/2021/12/17/pdfs/BORME-C-2021-8411.pdf\n",
      "INFO:root:Boletin-20211217/FUSIONES Y ABSORCIONES DE EMPRESAS ----- https://www.boe.es/borme/dias/2021/12/17/pdfs/BORME-C-2021-8412.pdf\n",
      "INFO:root:Boletin-20211217/FUSIONES Y ABSORCIONES DE EMPRESAS ----- https://www.boe.es/borme/dias/2021/12/17/pdfs/BORME-C-2021-8413.pdf\n",
      "INFO:root:Boletin-20211217/TRANSFORMACIÓN DE EMPRESAS ----- https://www.boe.es/borme/dias/2021/12/17/pdfs/BORME-C-2021-8414.pdf\n",
      "INFO:root:Boletin-20211217/TRANSFORMACIÓN DE EMPRESAS ----- https://www.boe.es/borme/dias/2021/12/17/pdfs/BORME-C-2021-8415.pdf\n",
      "INFO:root:Boletin-20211217/REDUCCIÓN DE CAPITAL ----- https://www.boe.es/borme/dias/2021/12/17/pdfs/BORME-C-2021-8416.pdf\n",
      "INFO:root:Boletin-20211217/REDUCCIÓN DE CAPITAL ----- https://www.boe.es/borme/dias/2021/12/17/pdfs/BORME-C-2021-8417.pdf\n",
      "INFO:root:Boletin-20211217/OTROS ANUNCIOS Y AVISOS LEGALES ----- https://www.boe.es/borme/dias/2021/12/17/pdfs/BORME-C-2021-8418.pdf\n"
     ]
    }
   ],
   "source": [
    "# Get all h4 titles after the second section title\n",
    "titles = driver.find_elements_by_xpath(\"//h3[@id='sec240C']/following-sibling::h4\")\n",
    "# Iterate through the titles\n",
    "for element in titles:\n",
    "    # Get the directory name\n",
    "    subdirectory = f\"{directory}/{element.text}\"\n",
    "    # Create directory\n",
    "    if not exists(subdirectory):\n",
    "        makedirs(subdirectory)\n",
    "    # Find the pdfs after the title\n",
    "    pdfs = element.find_element_by_xpath(\"./following-sibling::ul\").find_elements_by_xpath(\".//li[@class = 'puntoPDF']/a\")\n",
    "    for pdf in pdfs:\n",
    "#         print(pdf.get_attribute('href'))\n",
    "        URL = pdf.get_attribute('href')\n",
    "        file_name = URL.split(\"/\")[-1]\n",
    "        logging.info(f\"{subdirectory} ----- {URL}\")\n",
    "        # Using response in stead of clicking to control the directory the pdfs are downloaded into\n",
    "        response = requests.get(URL)  \n",
    "        with open(f\"{subdirectory}/{file_name}.pdf\", \"wb\") as output_file:\n",
    "            output_file.write(response.content)\n",
    "        time.sleep(2)"
   ]
  },
  {
   "cell_type": "code",
   "execution_count": null,
   "id": "dd8aeedc-7615-4ddf-9e8e-5a9e9d7d8587",
   "metadata": {},
   "outputs": [],
   "source": [
    "response = urllib.request.urlopen(URL)    \n",
    "file = open(\"FILENAME.pdf\", 'wb')\n",
    "file.write(response.read())\n",
    "file.close()"
   ]
  }
 ],
 "metadata": {
  "kernelspec": {
   "display_name": "Python 3",
   "language": "python",
   "name": "python3"
  },
  "language_info": {
   "codemirror_mode": {
    "name": "ipython",
    "version": 3
   },
   "file_extension": ".py",
   "mimetype": "text/x-python",
   "name": "python",
   "nbconvert_exporter": "python",
   "pygments_lexer": "ipython3",
   "version": "3.8.8"
  }
 },
 "nbformat": 4,
 "nbformat_minor": 5
}
