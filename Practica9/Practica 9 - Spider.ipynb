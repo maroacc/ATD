{
 "cells": [
  {
   "cell_type": "code",
   "execution_count": 1,
   "id": "7e4d77dc",
   "metadata": {},
   "outputs": [],
   "source": [
    "# PRÁCTICA 9 - Spider\n",
    "# María José Medina Hernández"
   ]
  },
  {
   "cell_type": "code",
   "execution_count": 2,
   "id": "314e4f5c",
   "metadata": {},
   "outputs": [],
   "source": [
    "# Imports\n",
    "import requests\n",
    "from bs4 import BeautifulSoup\n",
    "import csv"
   ]
  },
  {
   "cell_type": "code",
   "execution_count": 3,
   "id": "a89fad43",
   "metadata": {},
   "outputs": [],
   "source": [
    "# PRIMER NIVEL\n",
    "# Obtener las URLs de los países"
   ]
  },
  {
   "cell_type": "code",
   "execution_count": 4,
   "id": "d1b8a873",
   "metadata": {},
   "outputs": [],
   "source": [
    "# Download the countries' HTML \n",
    "url = \"https://en.wikipedia.org/wiki/Lists_of_universities_and_colleges_by_country\"\n",
    "response = requests.get(url)"
   ]
  },
  {
   "cell_type": "code",
   "execution_count": 5,
   "id": "447586b6",
   "metadata": {},
   "outputs": [],
   "source": [
    "# Parse the countries' HTML\n",
    "soup = BeautifulSoup(response.content, \"html.parser\")"
   ]
  },
  {
   "cell_type": "code",
   "execution_count": 6,
   "id": "d9c29fe2",
   "metadata": {},
   "outputs": [],
   "source": [
    "# Find the lists\n",
    "# We start with the universities in Africa (3)\n",
    "# 9 in total\n",
    "\n",
    "# Loop the continents (and subcontinents)\n",
    "navigation_list = soup.find_all(\"ul\")\n",
    "countries = [] # List of countries\n",
    "for i in range(3, 12):\n",
    "    countries_list = navigation_list[i].find_all(\"li\")\n",
    "    for item in countries_list:\n",
    "        countries.append([item.text, item.find(\"a\")[\"href\"]])"
   ]
  },
  {
   "cell_type": "code",
   "execution_count": 7,
   "id": "f966e1da",
   "metadata": {},
   "outputs": [],
   "source": [
    "# Create or open a csv file to write to\n",
    "file_path = r'countries.csv'\n",
    "with open(file_path, 'w', newline = \"\") as f:\n",
    "    writer = csv.writer(f, delimiter = \";\")\n",
    "    for row in countries:\n",
    "        writer.writerow(row)"
   ]
  },
  {
   "cell_type": "code",
   "execution_count": 8,
   "id": "929100f8",
   "metadata": {},
   "outputs": [],
   "source": [
    "# SEGUNDO NIVEL\n",
    "# Obtener las URLs de las universidades"
   ]
  },
  {
   "cell_type": "code",
   "execution_count": 9,
   "id": "b43449fa",
   "metadata": {},
   "outputs": [],
   "source": [
    "# Obtain Germany's URLs"
   ]
  },
  {
   "cell_type": "code",
   "execution_count": 10,
   "id": "cd00c97b",
   "metadata": {},
   "outputs": [],
   "source": [
    "# Load countries.csv in a matrix\n",
    "with open(file_path, 'r') as f:\n",
    "    reader = csv.reader(f, delimiter = \";\")\n",
    "    country_matrix = [row for row in reader]"
   ]
  },
  {
   "cell_type": "code",
   "execution_count": 12,
   "id": "0c188bb9",
   "metadata": {},
   "outputs": [],
   "source": [
    "for row in country_matrix:\n",
    "    if row[0] == 'Germany':\n",
    "        relative_url = row[1]"
   ]
  },
  {
   "cell_type": "code",
   "execution_count": 13,
   "id": "a2ab2d11",
   "metadata": {},
   "outputs": [
    {
     "data": {
      "text/plain": [
       "'/wiki/List_of_universities_in_Germany'"
      ]
     },
     "execution_count": 13,
     "metadata": {},
     "output_type": "execute_result"
    }
   ],
   "source": [
    "relative_url"
   ]
  },
  {
   "cell_type": "code",
   "execution_count": 19,
   "id": "90f51fe7",
   "metadata": {},
   "outputs": [
    {
     "name": "stdout",
     "output_type": "stream",
     "text": [
      "https://en.wikipedia.org//wiki/List_of_universities_in_Germany\n"
     ]
    }
   ],
   "source": [
    "# Download the HTML of German Univeristies\n",
    "\n",
    "# ------IMPORTANT!!--------\n",
    "# Normally this part would be located inside of the loop but\n",
    "# it is inconvenient in Jupyter Notebooks\n",
    "# It is properly implemented in the Practica10 equivalent file (spider.py)\n",
    "\n",
    "country = \"Germany\"\n",
    "url = f\"https://en.wikipedia.org/{relative_url}\"\n",
    "response = requests.get(url)"
   ]
  },
  {
   "cell_type": "code",
   "execution_count": 21,
   "id": "9b191329",
   "metadata": {},
   "outputs": [],
   "source": [
    "# Parse the German Universities' HTML\n",
    "soup = BeautifulSoup(response.content, \"html.parser\")"
   ]
  },
  {
   "cell_type": "code",
   "execution_count": 26,
   "id": "a277d166",
   "metadata": {},
   "outputs": [],
   "source": [
    "# Loop the continents (and subcontinents)\n",
    "navigation_list = soup.find_all(\"ul\")\n",
    "universities = [] # List of countries\n",
    "for i in range(3, 12):\n",
    "    universities_list = navigation_list[i].find_all(\"li\")\n",
    "    for item in universities_list:\n",
    "        universities.append([country, url, item.text, item.find(\"a\")[\"href\"]])"
   ]
  },
  {
   "cell_type": "code",
   "execution_count": 30,
   "id": "acad86c2",
   "metadata": {},
   "outputs": [],
   "source": [
    "# Create or open a csv file to write to\n",
    "file_path = r'universities.csv'\n",
    "with open(file_path, 'w', newline = \"\") as f:\n",
    "    writer = csv.writer(f, delimiter = \";\")\n",
    "    for row in universities:\n",
    "        writer.writerow(row)"
   ]
  },
  {
   "cell_type": "code",
   "execution_count": null,
   "id": "5cd70c45",
   "metadata": {},
   "outputs": [],
   "source": []
  }
 ],
 "metadata": {
  "kernelspec": {
   "display_name": "Python 3",
   "language": "python",
   "name": "python3"
  },
  "language_info": {
   "codemirror_mode": {
    "name": "ipython",
    "version": 3
   },
   "file_extension": ".py",
   "mimetype": "text/x-python",
   "name": "python",
   "nbconvert_exporter": "python",
   "pygments_lexer": "ipython3",
   "version": "3.8.8"
  }
 },
 "nbformat": 4,
 "nbformat_minor": 5
}
