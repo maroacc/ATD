{
 "cells": [
  {
   "cell_type": "code",
   "execution_count": 4,
   "id": "4cbfc0f3",
   "metadata": {},
   "outputs": [],
   "source": [
    "# PRÁCTICA 7 - Beautifulsoup\n",
    "# María José Medina Hernández"
   ]
  },
  {
   "cell_type": "code",
   "execution_count": 5,
   "id": "76d7ae78",
   "metadata": {},
   "outputs": [],
   "source": [
    "# Imports\n",
    "import requests\n",
    "from bs4 import BeautifulSoup"
   ]
  },
  {
   "cell_type": "code",
   "execution_count": 6,
   "id": "0ffae859",
   "metadata": {},
   "outputs": [],
   "source": [
    "# Download the HTML \n",
    "url = \"https://en.wikipedia.org/wiki/Comillas_Pontifical_University\"\n",
    "response = requests.get(url)"
   ]
  },
  {
   "cell_type": "code",
   "execution_count": 7,
   "id": "16da0229",
   "metadata": {},
   "outputs": [],
   "source": [
    "# Parse the HTML\n",
    "soup = BeautifulSoup(response.content, \"html.parser\")"
   ]
  },
  {
   "cell_type": "code",
   "execution_count": 8,
   "id": "8de3d30d",
   "metadata": {},
   "outputs": [],
   "source": [
    "# Find the info card\n",
    "# We search by class = \"infobox vcard\"\n",
    "target_tables = soup.find_all(\"table\", class_=\"infobox vcard\")"
   ]
  },
  {
   "cell_type": "code",
   "execution_count": 9,
   "id": "3ccbc6d2",
   "metadata": {},
   "outputs": [
    {
     "data": {
      "text/plain": [
       "1"
      ]
     },
     "execution_count": 9,
     "metadata": {},
     "output_type": "execute_result"
    }
   ],
   "source": [
    "# Check that there's only one element belonging to the class\n",
    "len(target_tables)"
   ]
  },
  {
   "cell_type": "code",
   "execution_count": 10,
   "id": "fca5faca",
   "metadata": {},
   "outputs": [],
   "source": [
    "# Get the element belonging to the class that we are aiming for\n",
    "# (There's only one in this case)\n",
    "target_table = target_tables[0]"
   ]
  },
  {
   "cell_type": "code",
   "execution_count": 84,
   "id": "adc56aa4",
   "metadata": {},
   "outputs": [],
   "source": [
    "# Data extraction\n",
    "\n",
    "data = { \"seal\" : target_table.find(\"a\").find(\"img\")[\"src\"],\n",
    "         \"motto_latin\" : target_table.find_all(\"i\")[0].get_text(),\n",
    "         \"motto_english\" : target_table.find_all(\"i\")[2].get_text(),  \n",
    "         \"motto_spanish\" : target_table.find_all(\"i\")[1].get_text(),\n",
    "         \"type\" : tds[2].get_text(),\n",
    "         \"established\" : tds[3].get_text().replace(\"\\xa0\", \" \").split(\"(\")[0].strip(),\n",
    "         \"chancellor\" : tds[5].get_text(),\n",
    "         \"vice_chancellor\" : tds[6].get_text(),\n",
    "         \"rector\" : tds[7].get_text(),\n",
    "         \"students\" : tds[8].get_text().split(\"[\")[0],\n",
    "         \"location\" : tds[9].get_text(),\n",
    "         \"campus\" : tds[10].get_text(),\n",
    "         \"colors\" : tds[11].get_text(),\n",
    "         \"affiliations\" : tds[4].get_text(),\n",
    "         \"website\" : tds[12].get_text(),\n",
    "         \"logo\" : target_table.find_all(\"td\", class_ = \"infobox-full-data\")[1].find(\"img\")[\"src\"]\n",
    "}"
   ]
  },
  {
   "cell_type": "code",
   "execution_count": 85,
   "id": "2936ec15",
   "metadata": {},
   "outputs": [
    {
     "data": {
      "text/plain": [
       "{'seal': '//upload.wikimedia.org/wikipedia/en/thumb/6/68/Comillas_Pontifical_University_seal.svg/180px-Comillas_Pontifical_University_seal.svg.png',\n",
       " 'motto_latin': 'Pontificia Universitas Comillensis Matriti',\n",
       " 'motto_english': 'The Value of Excellence',\n",
       " 'motto_spanish': 'El Valor de la Excelencia',\n",
       " 'type': 'Private Catholic Pontifical higher education institution',\n",
       " 'established': '1890; 131 years ago',\n",
       " 'chancellor': 'Very Rev.Adolfo Nicolás Pachón, SJ',\n",
       " 'vice_chancellor': 'Rev.Joaquín Barrero Díaz, SJ',\n",
       " 'rector': 'Rev.Julio Luis Martínez, SJ',\n",
       " 'students': '11,149',\n",
       " 'location': 'Madrid, Spain',\n",
       " 'campus': 'Both urban and rural.',\n",
       " 'colors': 'Yellow & Black',\n",
       " 'affiliations': 'Roman Catholic Church (Jesuit)',\n",
       " 'website': 'www.upcomillas.es',\n",
       " 'logo': '//upload.wikimedia.org/wikipedia/commons/thumb/e/e4/Comillas_Universidad_Pontificia_logo_%282018%29.jpg/220px-Comillas_Universidad_Pontificia_logo_%282018%29.jpg'}"
      ]
     },
     "execution_count": 85,
     "metadata": {},
     "output_type": "execute_result"
    }
   ],
   "source": [
    "data"
   ]
  },
  {
   "cell_type": "code",
   "execution_count": null,
   "id": "cae6fad9",
   "metadata": {},
   "outputs": [],
   "source": []
  }
 ],
 "metadata": {
  "kernelspec": {
   "display_name": "Python 3",
   "language": "python",
   "name": "python3"
  },
  "language_info": {
   "codemirror_mode": {
    "name": "ipython",
    "version": 3
   },
   "file_extension": ".py",
   "mimetype": "text/x-python",
   "name": "python",
   "nbconvert_exporter": "python",
   "pygments_lexer": "ipython3",
   "version": "3.8.8"
  }
 },
 "nbformat": 4,
 "nbformat_minor": 5
}
