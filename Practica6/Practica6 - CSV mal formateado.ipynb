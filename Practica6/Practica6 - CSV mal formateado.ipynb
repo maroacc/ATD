{
 "cells": [
  {
   "cell_type": "code",
   "execution_count": 49,
   "id": "84121a96",
   "metadata": {},
   "outputs": [],
   "source": [
    "# PRÁCTICA 6 - CSV mal formateado\n",
    "# María José Medina Hernández"
   ]
  },
  {
   "cell_type": "code",
   "execution_count": 50,
   "id": "52938972",
   "metadata": {},
   "outputs": [],
   "source": [
    "# Imports\n",
    "import csv\n",
    "import re "
   ]
  },
  {
   "cell_type": "code",
   "execution_count": 51,
   "id": "09cf6c85",
   "metadata": {},
   "outputs": [],
   "source": [
    "# Función para imprimir csv\n",
    "def load_csv(file_path):\n",
    "    with open(file_path, \"r\") as input_file:\n",
    "        reader = csv.reader(input_file, delimiter = \",\")\n",
    "        matrix = [row for row in reader]\n",
    "    return matrix"
   ]
  },
  {
   "cell_type": "code",
   "execution_count": 55,
   "id": "3ad1d76d",
   "metadata": {},
   "outputs": [],
   "source": [
    "path = r\"C:\\Users\\Maria\\github\\ATD\\Practica6\\bad_format.csv\"\n",
    "matrix = load_csv(path)"
   ]
  },
  {
   "cell_type": "code",
   "execution_count": 64,
   "id": "df107817",
   "metadata": {},
   "outputs": [],
   "source": [
    "for row in range(len(matrix)):\n",
    "    for col in range(len(matrix[0])):\n",
    "        matrix[row][col] = re.sub(\"[\\(\\[].*?[\\)\\]]\", \"\", matrix[row][col]).strip()"
   ]
  },
  {
   "cell_type": "code",
   "execution_count": 65,
   "id": "e8cdb3f6",
   "metadata": {},
   "outputs": [
    {
     "data": {
      "text/plain": [
       "[['BY YEAR', 'TEAM', 'GP', 'MIN', 'PTS', 'FGM'],\n",
       " ['2015-16', 'LAL', '66', '28', '17', '6', '6'],\n",
       " ['2014-15', 'LAL', '35', '34', '5', '22', '3', '7', '6'],\n",
       " ['2013-14', 'LAL', '6', '29', '5', '13', '8', '5', '2'],\n",
       " ['2012-13', 'LAL', '78', '39', '27', '3', '9', '5'],\n",
       " ['2011-12', 'LAL', '58', '38', '5', '27', '9', '9', '9']]"
      ]
     },
     "execution_count": 65,
     "metadata": {},
     "output_type": "execute_result"
    }
   ],
   "source": [
    "matrix"
   ]
  },
  {
   "cell_type": "code",
   "execution_count": null,
   "id": "b425fe6c",
   "metadata": {},
   "outputs": [],
   "source": []
  }
 ],
 "metadata": {
  "kernelspec": {
   "display_name": "Python 3",
   "language": "python",
   "name": "python3"
  },
  "language_info": {
   "codemirror_mode": {
    "name": "ipython",
    "version": 3
   },
   "file_extension": ".py",
   "mimetype": "text/x-python",
   "name": "python",
   "nbconvert_exporter": "python",
   "pygments_lexer": "ipython3",
   "version": "3.8.8"
  }
 },
 "nbformat": 4,
 "nbformat_minor": 5
}
