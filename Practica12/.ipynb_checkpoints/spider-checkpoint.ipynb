{
 "cells": [
  {
   "cell_type": "code",
   "execution_count": 1,
   "metadata": {},
   "outputs": [
    {
     "name": "stdout",
     "output_type": "stream",
     "text": [
      "Requirement already satisfied: selenium in c:\\users\\maria\\anaconda3\\lib\\site-packages (4.1.0)\n",
      "Requirement already satisfied: trio-websocket~=0.9 in c:\\users\\maria\\anaconda3\\lib\\site-packages (from selenium) (0.9.2)\n",
      "Requirement already satisfied: urllib3[secure]~=1.26 in c:\\users\\maria\\anaconda3\\lib\\site-packages (from selenium) (1.26.4)\n",
      "Requirement already satisfied: trio~=0.17 in c:\\users\\maria\\anaconda3\\lib\\site-packages (from selenium) (0.19.0)\n",
      "Requirement already satisfied: sniffio in c:\\users\\maria\\anaconda3\\lib\\site-packages (from trio~=0.17->selenium) (1.2.0)\n",
      "Requirement already satisfied: sortedcontainers in c:\\users\\maria\\anaconda3\\lib\\site-packages (from trio~=0.17->selenium) (2.3.0)\n",
      "Requirement already satisfied: idna in c:\\users\\maria\\anaconda3\\lib\\site-packages (from trio~=0.17->selenium) (2.10)\n",
      "Requirement already satisfied: cffi>=1.14 in c:\\users\\maria\\anaconda3\\lib\\site-packages (from trio~=0.17->selenium) (1.14.5)\n",
      "Requirement already satisfied: outcome in c:\\users\\maria\\anaconda3\\lib\\site-packages (from trio~=0.17->selenium) (1.1.0)\n",
      "Requirement already satisfied: async-generator>=1.9 in c:\\users\\maria\\anaconda3\\lib\\site-packages (from trio~=0.17->selenium) (1.10)\n",
      "Requirement already satisfied: attrs>=19.2.0 in c:\\users\\maria\\anaconda3\\lib\\site-packages (from trio~=0.17->selenium) (20.3.0)\n",
      "Requirement already satisfied: pycparser in c:\\users\\maria\\anaconda3\\lib\\site-packages (from cffi>=1.14->trio~=0.17->selenium) (2.20)\n",
      "Requirement already satisfied: wsproto>=0.14 in c:\\users\\maria\\anaconda3\\lib\\site-packages (from trio-websocket~=0.9->selenium) (1.0.0)\n",
      "Requirement already satisfied: certifi in c:\\users\\maria\\anaconda3\\lib\\site-packages (from urllib3[secure]~=1.26->selenium) (2020.12.5)\n",
      "Requirement already satisfied: pyOpenSSL>=0.14 in c:\\users\\maria\\anaconda3\\lib\\site-packages (from urllib3[secure]~=1.26->selenium) (20.0.1)\n",
      "Requirement already satisfied: cryptography>=1.3.4 in c:\\users\\maria\\anaconda3\\lib\\site-packages (from urllib3[secure]~=1.26->selenium) (3.4.7)\n",
      "Requirement already satisfied: six>=1.5.2 in c:\\users\\maria\\anaconda3\\lib\\site-packages (from pyOpenSSL>=0.14->urllib3[secure]~=1.26->selenium) (1.15.0)\n",
      "Requirement already satisfied: h11<1,>=0.9.0 in c:\\users\\maria\\anaconda3\\lib\\site-packages (from wsproto>=0.14->trio-websocket~=0.9->selenium) (0.12.0)\n"
     ]
    }
   ],
   "source": [
    "!pip install selenium"
   ]
  },
  {
   "cell_type": "code",
   "execution_count": 2,
   "metadata": {
    "tags": []
   },
   "outputs": [],
   "source": [
    "import time\n",
    "from selenium import webdriver"
   ]
  },
  {
   "cell_type": "code",
   "execution_count": 3,
   "metadata": {
    "collapsed": false,
    "jupyter": {
     "outputs_hidden": false
    },
    "pycharm": {
     "name": "#%%\n"
    }
   },
   "outputs": [],
   "source": [
    "# Deploy the Chrome diver executed by Selenium\n",
    "chromedriver_path = r\"..\\chromedriver_win32\\chromedriver\""
   ]
  },
  {
   "cell_type": "code",
   "execution_count": 7,
   "metadata": {
    "collapsed": false,
    "jupyter": {
     "outputs_hidden": false
    },
    "pycharm": {
     "name": "#%%\n"
    }
   },
   "outputs": [
    {
     "name": "stderr",
     "output_type": "stream",
     "text": [
      "<ipython-input-7-8ce3ecedb8b1>:2: DeprecationWarning: executable_path has been deprecated, please pass in a Service object\n",
      "  driver = webdriver.Chrome(executable_path=chromedriver_path)\n"
     ]
    }
   ],
   "source": [
    "# Path to the Chrome driver\n",
    "driver = webdriver.Chrome(executable_path=chromedriver_path)\n",
    "url = \"https://comparador.cnmc.gob.es/\"\n",
    "driver.get(url)\n",
    "time.sleep(2)"
   ]
  },
  {
   "cell_type": "code",
   "execution_count": 8,
   "metadata": {
    "collapsed": false,
    "jupyter": {
     "outputs_hidden": false
    },
    "pycharm": {
     "name": "#%%\n"
    }
   },
   "outputs": [
    {
     "name": "stderr",
     "output_type": "stream",
     "text": [
      "<ipython-input-8-d12efa4ab6e8>:2: DeprecationWarning: find_element_by_* commands are deprecated. Please use find_element() instead\n",
      "  driver.find_element_by_class_name(\"cookiesjsr-btn\").click()\n"
     ]
    }
   ],
   "source": [
    "# Click reject cookies button\n",
    "driver.find_element_by_class_name(\"cookiesjsr-btn\").click()\n",
    "time.sleep(2)"
   ]
  },
  {
   "cell_type": "code",
   "execution_count": 9,
   "metadata": {
    "collapsed": false,
    "jupyter": {
     "outputs_hidden": false
    },
    "pycharm": {
     "name": "#%%\n"
    }
   },
   "outputs": [
    {
     "name": "stderr",
     "output_type": "stream",
     "text": [
      "<ipython-input-9-074e4de2ff0e>:2: DeprecationWarning: find_element_by_* commands are deprecated. Please use find_element() instead\n",
      "  driver.find_element_by_id(\"input-36\").click()\n"
     ]
    }
   ],
   "source": [
    "\n",
    "# Click type of utility select button\n",
    "driver.find_element_by_id(\"input-36\").click()\n",
    "time.sleep(2)"
   ]
  },
  {
   "cell_type": "code",
   "execution_count": 10,
   "metadata": {
    "collapsed": false,
    "jupyter": {
     "outputs_hidden": false
    },
    "pycharm": {
     "name": "#%%\n"
    }
   },
   "outputs": [
    {
     "name": "stderr",
     "output_type": "stream",
     "text": [
      "<ipython-input-10-444844f10fec>:2: DeprecationWarning: find_element_by_* commands are deprecated. Please use find_element() instead\n",
      "  driver.find_element_by_class_name(\"v-list-item__content\").click()\n"
     ]
    }
   ],
   "source": [
    "# Click on the electricity select item\n",
    "driver.find_element_by_class_name(\"v-list-item__content\").click()\n",
    "time.sleep(2)"
   ]
  },
  {
   "cell_type": "code",
   "execution_count": 11,
   "metadata": {
    "collapsed": false,
    "jupyter": {
     "outputs_hidden": false
    },
    "pycharm": {
     "name": "#%%\n"
    }
   },
   "outputs": [
    {
     "name": "stderr",
     "output_type": "stream",
     "text": [
      "<ipython-input-11-bf7f1f5c3eeb>:2: DeprecationWarning: find_element_by_* commands are deprecated. Please use find_element() instead\n",
      "  driver.find_element_by_id(\"Iniciar\").click()\n"
     ]
    }
   ],
   "source": [
    "# Send the form\n",
    "driver.find_element_by_id(\"Iniciar\").click()\n",
    "time.sleep(2)"
   ]
  },
  {
   "cell_type": "code",
   "execution_count": 12,
   "metadata": {
    "collapsed": false,
    "jupyter": {
     "outputs_hidden": false
    },
    "pycharm": {
     "name": "#%%\n"
    }
   },
   "outputs": [
    {
     "name": "stderr",
     "output_type": "stream",
     "text": [
      "<ipython-input-12-281c3483af93>:3: DeprecationWarning: find_element_by_* commands are deprecated. Please use find_element() instead\n",
      "  driver.find_element_by_name(\"codigoPostal\").send_keys(postal_code)\n"
     ]
    }
   ],
   "source": [
    "# Input the postal code\n",
    "postal_code = \"28045\"\n",
    "driver.find_element_by_name(\"codigoPostal\").send_keys(postal_code)\n",
    "time.sleep(2)"
   ]
  },
  {
   "cell_type": "code",
   "execution_count": 13,
   "metadata": {
    "collapsed": false,
    "jupyter": {
     "outputs_hidden": false
    },
    "pycharm": {
     "name": "#%%\n"
    }
   },
   "outputs": [
    {
     "name": "stderr",
     "output_type": "stream",
     "text": [
      "<ipython-input-13-f4557a41c811>:2: DeprecationWarning: find_element_by_* commands are deprecated. Please use find_element() instead\n",
      "  driver.find_element_by_id(\"Continuar\").click()\n"
     ]
    }
   ],
   "source": [
    "# Send the form\n",
    "driver.find_element_by_id(\"Continuar\").click()\n",
    "time.sleep(2)"
   ]
  },
  {
   "cell_type": "code",
   "execution_count": 16,
   "metadata": {},
   "outputs": [
    {
     "name": "stdout",
     "output_type": "stream",
     "text": [
      "['Electricidad', '28045', '3.000 kWh', 'No']\n"
     ]
    },
    {
     "name": "stderr",
     "output_type": "stream",
     "text": [
      "<ipython-input-15-28392ef93b57>:15: DeprecationWarning: find_element_by_* commands are deprecated. Please use find_element() instead\n",
      "  spans = driver.find_element_by_class_name(\"InfoFormulario\").find_elements_by_tag_name(\"span\")\n",
      "C:\\Users\\Maria\\anaconda3\\lib\\site-packages\\selenium\\webdriver\\remote\\webelement.py:359: UserWarning: find_elements_by_* commands are deprecated. Please use find_elements() instead\n",
      "  warnings.warn(\"find_elements_by_* commands are deprecated. Please use find_elements() instead\")\n"
     ]
    }
   ],
   "source": [
    "general_info = find_general_info(driver)\n",
    "\n",
    "print(general_info)\n",
    "# time.sleep(60)"
   ]
  },
  {
   "cell_type": "code",
   "execution_count": 44,
   "metadata": {},
   "outputs": [
    {
     "name": "stderr",
     "output_type": "stream",
     "text": [
      "<ipython-input-43-b26ce0c90a1c>:4: DeprecationWarning: find_element_by_* commands are deprecated. Please use find_element() instead\n",
      "  trs = driver.find_element_by_id(\"listadoOfertas\").find_element_by_tag_name(\"tbody\")\n"
     ]
    }
   ],
   "source": [
    "complete_info = add_specific_info(general_info, driver)"
   ]
  },
  {
   "cell_type": "code",
   "execution_count": 43,
   "metadata": {},
   "outputs": [],
   "source": [
    "def add_specific_info(general_info, driver):\n",
    "    # Create a list of list with the complete information\n",
    "    complete_info = []\n",
    "    # Find all <tr> elements\n",
    "    trs = driver.find_element_by_id(\"listadoOfertas\").find_element_by_tag_name(\"tbody\")\n",
    "    trs = trs.find_elements_by_tag_name(\"tr\")\n",
    "    # Delete the header of the table\n",
    "    trs.pop(0)\n",
    "    # Loop through the rows\n",
    "    for tr in trs:\n",
    "        # Create a list that already contains the general info elements\n",
    "        new_list = general_info.copy()\n",
    "        # \"Loop\" through the columns\n",
    "        tds = tr.find_elements_by_tag_name(\"td\")\n",
    "        # Get the alternative text of the icon displayed\n",
    "        new_list.append(tds[0].find_element_by_tag_name(\"img\").get_attribute(\"alt\"))\n",
    "        new_list.append(tds[1].text)\n",
    "        new_list.append(tds[2].text)\n",
    "        new_list.append(tds[3].text)\n",
    "        new_list.append(tds[4].text)\n",
    "        new_list.append(tds[5].text)\n",
    "        new_list.append(tds[6].text)\n",
    "        # Check if the tree icon is green or grey\n",
    "        if 'green--text' in tds[7].find_element_by_tag_name(\"i\").get_attribute('class').split():\n",
    "            new_list.append('Si')\n",
    "        else:\n",
    "            new_list.append('No')\n",
    "        # Add the link to which one is redirected when pressing the icon\n",
    "        new_list.append(tds[8].find_element_by_tag_name(\"a\").get_attribute(\"href\"))\n",
    "        # Append row to the table\n",
    "        complete_info.append(new_list)\n",
    "    return complete_info"
   ]
  },
  {
   "cell_type": "code",
   "execution_count": 15,
   "metadata": {},
   "outputs": [],
   "source": [
    "def find_general_info(driver):\n",
    "    \"\"\"\n",
    "    Returns a list with the general information found in the header of the page for a specific search\n",
    "    \n",
    "    Params\n",
    "    -------\n",
    "    driver : selenium.webdriver.chrome.webdriver.WebDriver\n",
    "        The driver of the webpage.\n",
    "\n",
    "    Return\n",
    "    -------\n",
    "    general_info : list\n",
    "        A list with the following columns: Tipo de Suministro, Código Postal, Potencia Contratada, Consumo Anual, Permanencia.\n",
    "    \"\"\"\n",
    "    spans = driver.find_element_by_class_name(\"InfoFormulario\").find_elements_by_tag_name(\"span\")\n",
    "    # Allocate memory for the list\n",
    "    general_info = []\n",
    "    general_info.append(spans[1].text)\n",
    "    general_info.append(spans[3].text)\n",
    "    general_info.append(spans[5].text)\n",
    "    general_info.append(spans[17].text)\n",
    "    return general_info\n",
    "    "
   ]
  },
  {
   "cell_type": "code",
   "execution_count": null,
   "metadata": {},
   "outputs": [],
   "source": [
    "def store_to_csv(matrix, file_path):\n",
    "    sleep(2)"
   ]
  }
 ],
 "metadata": {
  "kernelspec": {
   "display_name": "Python 3",
   "language": "python",
   "name": "python3"
  },
  "language_info": {
   "codemirror_mode": {
    "name": "ipython",
    "version": 3
   },
   "file_extension": ".py",
   "mimetype": "text/x-python",
   "name": "python",
   "nbconvert_exporter": "python",
   "pygments_lexer": "ipython3",
   "version": "3.8.8"
  }
 },
 "nbformat": 4,
 "nbformat_minor": 4
}
